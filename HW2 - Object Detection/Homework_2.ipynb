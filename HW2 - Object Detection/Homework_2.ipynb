{
 "cells": [
  {
   "cell_type": "markdown",
   "metadata": {
    "id": "6VBJpAMzglRo"
   },
   "source": [
    "# RetinaMNIST with rotations\n",
    "\n",
    "In this exercise your goal will be to solve an object detection training and prediction task using the anchor-based approach.\n",
    "**As a part of your solution you should provide a report summarizing your findings and results of the conducted experiments.**\n",
    "\n",
    "##TLDR; overview\n",
    "\n",
    "In this task one should:\n",
    "- determine the size of the feasible anchors for the object detection task posed in this Assignment,\n",
    "- build an object detection model using the variant of `RetinaNet`,\n",
    "- prepare a matching suite which will match predicted anchors with ground truth bounding boxes,\n",
    "- train an object detection model using a variant of `RetinaLoss`.\n",
    "\n",
    "Hints and comments:\n",
    "\n",
    "- Model architecture and loss are heavily inspired by [RetinaNet](https://arxiv.org/pdf/1708.02002.pdf) paper,\n",
    "- you can freely subclass and extend the interface of classes in this exercise,\n",
    "- be sure that you understand the concept of an anchor for object detection, covered during the lecture about Object Detection. There are many great tutorials and articles about it (e.g. [this](https://towardsdatascience.com/anchor-boxes-the-key-to-quality-object-detection-ddf9d612d4f9) one, note however that we are not implementing ignoring boxes for simplicity).\n",
    "\n",
    "### Data description\n",
    "\n",
    "In this task we will paste bounding boxes with digits **from 1 to 5** randomly selected from `MNIST` dataset on a canvas of size `(128, 128)` and **randomly flipped by 90 degrees**. We assume that:\n",
    "\n",
    "- the two boxes from a canvas should have no more than `0.1` of `iou` overlap,\n",
    "- the digits are fully contained in canvas,\n",
    "- boxes are modeled using `MnistBox` class,\n",
    "- canvas is modeled using `MnistCanvas` class.\n",
    "\n",
    "Let us have a look at definition of these classes:"
   ]
  },
  {
   "cell_type": "code",
   "execution_count": 1,
   "metadata": {
    "id": "L1rAdIiRq2G8"
   },
   "outputs": [],
   "source": [
    "from typing import List\n",
    "from typing import Optional\n",
    "from typing import Tuple\n",
    "\n",
    "import matplotlib.pyplot as plt\n",
    "import matplotlib.patches as patches\n",
    "import numpy as np\n",
    "import torch\n",
    "\n",
    "\n",
    "DEVICE = torch.device('cuda' if torch.cuda.is_available() else 'cpu')\n",
    "\n",
    "class MnistBox:\n",
    "\n",
    "    def __init__(\n",
    "        self,\n",
    "        x_min: int,\n",
    "        y_min: int,\n",
    "        x_max: int,\n",
    "        y_max: int,\n",
    "        class_nb: Optional[int] = None,\n",
    "        rotated: Optional[bool] = None,\n",
    "    ):\n",
    "        self.x_min = x_min\n",
    "        self.x_max = x_max\n",
    "        self.y_min = y_min\n",
    "        self.y_max = y_max\n",
    "        self.class_nb = class_nb\n",
    "        self.rotated = rotated\n",
    "    \n",
    "    @property\n",
    "    def x_diff(self):\n",
    "        return self.x_max - self.x_min\n",
    "    \n",
    "    @property\n",
    "    def y_diff(self):\n",
    "        return self.y_max - self.y_min\n",
    "\n",
    "    def __repr__(self):\n",
    "        return f'Mnist Box: x_min = {self.x_min},' +\\\n",
    "               f' x_max = {self.x_max}, y_min = {self.y_min},' +\\\n",
    "               f' y_max = {self.y_max}. Class = {self.class_nb}.' +\\\n",
    "               f' Rotated = {self.rotated}.'\n",
    "\n",
    "    def plot_on_ax(self, ax, color: Optional[str] = 'r'):\n",
    "        ax.add_patch(\n",
    "            patches.Rectangle(\n",
    "                (self.y_min, self.x_min),\n",
    "                 self.y_diff,\n",
    "                 self.x_diff,\n",
    "                 linewidth=1,\n",
    "                 edgecolor=color,\n",
    "                 facecolor='none',\n",
    "            )\n",
    "        )\n",
    "        ax.text(\n",
    "            self.y_min,\n",
    "            self.x_min,\n",
    "            f'{self.class_nb}' if not self.rotated else f'{self.class_nb}*',\n",
    "            bbox={\"facecolor\": color, \"alpha\": 0.4},\n",
    "            clip_box=ax.clipbox,\n",
    "            clip_on=True,\n",
    "        )\n",
    "\n",
    "    @property\n",
    "    def area(self):\n",
    "        return max((self.x_max - self.x_min), 0) * max((self.y_max - self.y_min), 0)\n",
    "\n",
    "    def iou_with(self, other_box: \"MnistBox\"):\n",
    "        aux_box = MnistBox(\n",
    "            x_min=max(self.x_min, other_box.x_min),\n",
    "            x_max=min(self.x_max, other_box.x_max),\n",
    "            y_min=max(self.y_min, other_box.y_min),\n",
    "            y_max=min(self.y_max, other_box.y_max),\n",
    "        ) \n",
    "        return aux_box.area / (self.area + other_box.area - aux_box.area)\n",
    "\n",
    "    def to_tensor(self):\n",
    "        return torch.tensor([self.x_min, self.y_min, self.x_max, self.y_max])\n",
    "\n",
    "\n",
    "class MnistCanvas:\n",
    "\n",
    "    def __init__(\n",
    "        self,\n",
    "        image: np.ndarray,\n",
    "        boxes: List[MnistBox],\n",
    "    ):\n",
    "        self.image = image\n",
    "        self.boxes = boxes\n",
    "\n",
    "    def add_digit(\n",
    "        self,\n",
    "        digit: np.ndarray,\n",
    "        class_nb: int,\n",
    "        x_min: int,\n",
    "        y_min: int,\n",
    "        rotated=None,\n",
    "        iou_threshold=0.1,\n",
    "    ) -> bool:\n",
    "        \"\"\"\n",
    "        Add a digit to an image if it does not overlap with existing boxes\n",
    "        above iou_threshold.\n",
    "        \"\"\"\n",
    "        image_x, image_y = digit.shape\n",
    "        if x_min >= self.image.shape[0] and y_min >= self.image.shape[1]:\n",
    "            raise ValueError('Wrong initial corner box')\n",
    "        new_box_x_min = x_min\n",
    "        new_box_y_min = y_min\n",
    "        new_box_x_max = min(x_min + image_x, self.image.shape[0])\n",
    "        new_box_y_max = min(y_min + image_y, self.image.shape[1])\n",
    "        new_box = MnistBox(\n",
    "            x_min=new_box_x_min,\n",
    "            x_max=new_box_x_max,\n",
    "            y_min=new_box_y_min,\n",
    "            y_max=new_box_y_max,\n",
    "            class_nb=class_nb,\n",
    "            rotated=rotated,\n",
    "        )\n",
    "        old_background = self.image[\n",
    "            new_box_x_min:new_box_x_max,\n",
    "            new_box_y_min:new_box_y_max\n",
    "        ]\n",
    "        for box in self.boxes:\n",
    "            if new_box.iou_with(box) > iou_threshold:\n",
    "                return False\n",
    "        self.image[\n",
    "            new_box_x_min:new_box_x_max,\n",
    "            new_box_y_min:new_box_y_max\n",
    "        ] = np.maximum(old_background, digit)\n",
    "        self.boxes.append(\n",
    "            new_box\n",
    "        ) \n",
    "        return True\n",
    "        \n",
    "    def get_torch_tensor(self) -> torch.Tensor:\n",
    "        np_image = self.image.astype('float32')\n",
    "        np_image = np_image.reshape(\n",
    "            (1, 1, self.image.shape[0], self.image.shape[1])\n",
    "        )\n",
    "        return torch.from_numpy(np_image).to(DEVICE)\n",
    "\n",
    "    @classmethod\n",
    "    def get_empty_of_size(cls, size: Tuple[int, int]):\n",
    "        return cls(\n",
    "            image=np.zeros(size),\n",
    "            boxes=[],\n",
    "        )\n",
    "\n",
    "    def plot(self, boxes: Optional[List[MnistBox]] = None):\n",
    "        fig, ax = plt.subplots()\n",
    "        ax.imshow(self.image)\n",
    "        boxes = boxes or self.boxes\n",
    "        for box in boxes:\n",
    "            box.plot_on_ax(ax)\n",
    "        plt.show()"
   ]
  },
  {
   "cell_type": "markdown",
   "metadata": {
    "id": "NWMxgsgFtlze"
   },
   "source": [
    "Each canvas has 3-6 boxes with randomly selected digits. The digits for training data are from first 10K examples from `MNIST` train data. The digits for test data are selected from first 1K examples from `MNIST` test data. The Dataset is generated using the following functions:"
   ]
  },
  {
   "cell_type": "code",
   "execution_count": 2,
   "metadata": {
    "colab": {
     "base_uri": "https://localhost:8080/"
    },
    "id": "HezSZXw4z-cx",
    "outputId": "f61e3305-f072-4ad9-a89a-995d2dd39953"
   },
   "outputs": [
    {
     "name": "stdout",
     "output_type": "stream",
     "text": [
      "Downloading data from https://storage.googleapis.com/tensorflow/tf-keras-datasets/mnist.npz\n",
      "11493376/11490434 [==============================] - 0s 0us/step\n",
      "11501568/11490434 [==============================] - 0s 0us/step\n"
     ]
    }
   ],
   "source": [
    "from keras.datasets import mnist\n",
    "import numpy as np\n",
    "\n",
    "\n",
    "mnist_data = mnist.load_data()\n",
    "(mnist_x_train, mnist_y_train), (mnist_x_test, mnist_y_test) = mnist_data\n",
    "\n",
    "\n",
    "def crop_insignificant_values(digit:np.ndarray, threshold=0.1):\n",
    "    bool_digit = digit > threshold\n",
    "    x_range = bool_digit.max(axis=0)\n",
    "    y_range = bool_digit.max(axis=1)\n",
    "    start_x = (x_range.cumsum() == 0).sum()\n",
    "    end_x = (x_range[::-1].cumsum() == 0).sum()\n",
    "    start_y = (y_range.cumsum() == 0).sum()\n",
    "    end_y = (y_range[::-1].cumsum() == 0).sum()\n",
    "    return digit[start_y:-end_y - 1, start_x:-end_x - 1]\n",
    "\n",
    "\n",
    "TRAIN_DIGITS = [\n",
    "    crop_insignificant_values(digit) / 255.0\n",
    "    for digit_index, digit in enumerate(mnist_x_train[:10000])\n",
    "]\n",
    "TRAIN_CLASSES = mnist_y_train[:10000]\n",
    "\n",
    "TEST_DIGITS = [\n",
    "    crop_insignificant_values(digit) / 255.0\n",
    "    for digit_index, digit in enumerate(mnist_x_test[:1000])\n",
    "]\n",
    "TEST_CLASSES = mnist_y_test[:1000]\n",
    "\n",
    "\n",
    "def get_random_canvas(\n",
    "    digits: Optional[List[np.ndarray]] = None,\n",
    "    classes: Optional[List[int]] = None,\n",
    "    nb_of_digits: Optional[int] = None,\n",
    "    ):\n",
    "    digits = digits if digits is not None else TRAIN_DIGITS\n",
    "    classes = classes if classes is not None else TRAIN_CLASSES\n",
    "    nb_of_digits = nb_of_digits if nb_of_digits is not None else np.random.randint(low=3, high=6 + 1)\n",
    "    new_canvas = MnistCanvas.get_empty_of_size(size=(128, 128))\n",
    "    attempts_done = 0\n",
    "    while attempts_done < nb_of_digits:\n",
    "        current_digit_index = np.random.randint(len(digits))\n",
    "        current_digit_class = classes[current_digit_index]\n",
    "        if current_digit_class not in [1, 2, 3, 4, 5]:\n",
    "            continue\n",
    "        rotate = np.random.random() > 0.5\n",
    "        current_digit = digits[current_digit_index]\n",
    "        if rotate:\n",
    "            current_digit = np.rot90(current_digit)\n",
    "        random_x_min = np.random.randint(0, 128 - current_digit.shape[0] - 3)\n",
    "        random_y_min = np.random.randint(0, 128 - current_digit.shape[1] - 3)\n",
    "        if new_canvas.add_digit(\n",
    "            digit=current_digit,\n",
    "            x_min=random_x_min,\n",
    "            y_min=random_y_min,\n",
    "            class_nb=current_digit_class,\n",
    "            rotated=rotate,\n",
    "        ):\n",
    "            attempts_done += 1\n",
    "    return new_canvas"
   ]
  },
  {
   "cell_type": "markdown",
   "metadata": {
    "id": "5i2OjUEC7eaC"
   },
   "source": [
    "Let us have a look at example canvas (rotated digits have additional *added to description)."
   ]
  },
  {
   "cell_type": "code",
   "execution_count": 3,
   "metadata": {
    "colab": {
     "base_uri": "https://localhost:8080/",
     "height": 268
    },
    "id": "OsLpINOtvhd8",
    "outputId": "315f62e9-88ea-451e-f5aa-00ff8c71dd55"
   },
   "outputs": [
    {
     "data": {
      "image/png": "[encoded data removed]",
      "text/plain": [
       "<Figure size 432x288 with 1 Axes>"
      ]
     },
     "metadata": {
      "needs_background": "light"
     },
     "output_type": "display_data"
    }
   ],
   "source": [
    "mnist_canvas = get_random_canvas()\n",
    "mnist_canvas.plot()"
   ]
  },
  {
   "cell_type": "markdown",
   "metadata": {
    "id": "4QkpHGiOCnng"
   },
   "source": [
    "Now - let us generate test canvas:"
   ]
  },
  {
   "cell_type": "code",
   "execution_count": 4,
   "metadata": {
    "colab": {
     "base_uri": "https://localhost:8080/",
     "height": 268
    },
    "id": "PV410KSYC-eT",
    "outputId": "439283ea-b990-4595-e966-d7aad53c0b5b"
   },
   "outputs": [
    {
     "data": {
      "image/png": "[encoded data removed]",
      "text/plain": [
       "<Figure size 432x288 with 1 Axes>"
      ]
     },
     "metadata": {
      "needs_background": "light"
     },
     "output_type": "display_data"
    }
   ],
   "source": [
    "TEST_CANVAS_SIZE = 256\n",
    "TEST_SEED = 42 # DO NOT CHANGE THIS LINE.\n",
    "\n",
    "np.random.seed(TEST_SEED)\n",
    "\n",
    "TEST_CANVAS = [\n",
    "    get_random_canvas(\n",
    "        digits=TEST_DIGITS,\n",
    "        classes=TEST_CLASSES,\n",
    "    )\n",
    "    for _ in range(TEST_CANVAS_SIZE)\n",
    "]\n",
    "\n",
    "TEST_CANVAS[0].plot()"
   ]
  },
  {
   "cell_type": "markdown",
   "metadata": {
    "id": "OgU2bKyJ3pVh"
   },
   "source": [
    "For training one can either:\n",
    "- generate `TRAIN_CANVAS` similarly to `TEST_CANVAS` creation,\n",
    "- use the fact that `get_random_canvas()` generates a random train canvas and generate training data on-the-fly."
   ]
  },
  {
   "cell_type": "markdown",
   "metadata": {
    "id": "Ri3Jh7GzjZ4W"
   },
   "source": [
    "### Anchor size analysis"
   ]
  },
  {
   "cell_type": "code",
   "execution_count": 5,
   "metadata": {
    "colab": {
     "base_uri": "https://localhost:8080/"
    },
    "id": "KWLTAoFwkEnu",
    "outputId": "0d760bdb-876e-4f03-8aa5-c6a2d84cf64a"
   },
   "outputs": [
    {
     "name": "stdout",
     "output_type": "stream",
     "text": [
      "17 [(2, 19), (4, 19), (6, 19), (8, 19), (10, 19), (12, 19), (14, 19), (16, 19), (18, 19), (19, 3), (19, 5), (19, 7), (19, 9), (19, 11), (19, 13), (19, 15), (19, 17)]\n"
     ]
    }
   ],
   "source": [
    "import collections\n",
    "import matplotlib.pyplot as plt\n",
    "import math\n",
    "\n",
    "\n",
    "ANALYZE_CANVAS_SIZE = 1000\n",
    "\n",
    "ANALYZE_CANVAS = [\n",
    "    get_random_canvas(\n",
    "        digits=TRAIN_DIGITS,\n",
    "        classes=TRAIN_CLASSES,\n",
    "    )\n",
    "    for _ in range(ANALYZE_CANVAS_SIZE)\n",
    "]\n",
    "\n",
    "unique_sizes = set()\n",
    "for canvas in ANALYZE_CANVAS:\n",
    "    for box in canvas.boxes:\n",
    "        # I don't want squares because they can confuse rotation detection in NN\n",
    "        if abs(box.x_diff - box.y_diff) == 0:\n",
    "            continue\n",
    "        unique_sizes.add((min(box.x_diff, box.y_diff), max(box.x_diff, box.y_diff)))\n",
    "        unique_sizes.add((max(box.x_diff, box.y_diff), min(box.x_diff, box.y_diff)))\n",
    "\n",
    "ANCHOR_SIZES = list(unique_sizes)\n",
    "ANCHOR_SIZES.sort()\n",
    "# I get every second unique anchor size because 35 anchor sizes was a bit too much\n",
    "ANCHOR_SIZES = ANCHOR_SIZES[::2]\n",
    "print(len(ANCHOR_SIZES), ANCHOR_SIZES)"
   ]
  },
  {
   "cell_type": "markdown",
   "metadata": {
    "id": "_GpJZUkDGJSi"
   },
   "source": [
    "### Model building"
   ]
  },
  {
   "cell_type": "code",
   "execution_count": 6,
   "metadata": {
    "colab": {
     "base_uri": "https://localhost:8080/"
    },
    "id": "0x9tx9a1ggiS",
    "outputId": "faef8bc4-1f79-4300-e0f8-9a7129144ec5"
   },
   "outputs": [
    {
     "name": "stdout",
     "output_type": "stream",
     "text": [
      "4352 4352\n"
     ]
    }
   ],
   "source": [
    "ANCHORS = []\n",
    "for i in range(16):\n",
    "    y = (i + 0.5) * 8\n",
    "    for j in range(16):\n",
    "        x = (j + 0.5) * 8\n",
    "        for size in ANCHOR_SIZES:\n",
    "            x_min = max(0, x - (size[0] + 1) // 2)\n",
    "            x_max = min(128, x + (size[0] + 1) // 2)\n",
    "\n",
    "            y_min = max(0, y - (size[1] + 1) // 2)\n",
    "            y_max = min(128, y + (size[1] + 1) // 2)\n",
    "            ANCHORS.append(MnistBox(x_min, y_min, x_max, y_max))\n",
    "\n",
    "print(len(ANCHORS))"
   ]
  },
  {
   "cell_type": "code",
   "execution_count": 7,
   "metadata": {
    "id": "kXco8riNGHhl"
   },
   "outputs": [],
   "source": [
    "from torch import nn\n",
    "\n",
    "\n",
    "class DigitDetectionModelOutput:\n",
    "\n",
    "    def __init__(\n",
    "        self,\n",
    "        anchors: List[MnistBox],\n",
    "        digit_classification_output: torch.Tensor,\n",
    "        rotation_classification_output: torch.Tensor,\n",
    "        box_regression_output: torch.Tensor,\n",
    "    ):\n",
    "        self.anchors = anchors\n",
    "        self.digit_classification_output = digit_classification_output\n",
    "        self.box_regression_output = box_regression_output\n",
    "        self.rotation_classification_output = rotation_classification_output\n",
    "\n",
    "\n",
    "class Backbone(torch.nn.Module):\n",
    "    def __init__(self):\n",
    "        super().__init__()\n",
    "        self.output_shape = (16, 16, 128)\n",
    "        self.first_block = torch.nn.Sequential(\n",
    "            nn.Conv2d(1, 16, (3, 3), padding=1),\n",
    "            nn.ReLU(),\n",
    "            nn.Conv2d(16, 32, (3, 3), padding=1),\n",
    "            nn.ReLU(),\n",
    "            nn.MaxPool2d(2, 2),\n",
    "        )\n",
    "        self.blocks = torch.nn.ModuleList(\n",
    "            [torch.nn.Sequential(*[\n",
    "                nn.Conv2d(16 * (2 ** i), 16 * (2 ** (i + 1)), (3, 3), padding=1),\n",
    "                nn.ReLU(),\n",
    "                nn.MaxPool2d(2, 2),\n",
    "              ]) for i in range(1, 3)\n",
    "            ]\n",
    "        )\n",
    "\n",
    "    def forward(self, x: MnistCanvas) -> torch.Tensor:\n",
    "        image = torch.Tensor(x.image).to(DEVICE).view(1, 1, 128, 128)\n",
    "        aux = self.first_block(image)\n",
    "        for block in self.blocks:\n",
    "            aux = block(aux)\n",
    "        return aux"
   ]
  },
  {
   "cell_type": "code",
   "execution_count": 52,
   "metadata": {
    "id": "GipxwAANivRV"
   },
   "outputs": [],
   "source": [
    "# I have applied the same layers to each of the heads, assuming sigmoid(x) would\n",
    "# give accurate percentages when asked.\n",
    "def make_layers(out_planes):\n",
    "    return torch.nn.Sequential(\n",
    "        torch.nn.Conv2d(128, 96, kernel_size=(3, 3), stride=(1, 1), padding=(1, 1), bias=True),\n",
    "        torch.nn.ReLU(),\n",
    "        torch.nn.Conv2d(96, len(ANCHOR_SIZES) * out_planes, kernel_size=(3, 3), stride=(1, 1), padding=(1, 1),\n",
    "                        bias=True),\n",
    "    )\n",
    "\n",
    "class DigitClassificationHead(torch.nn.Module):\n",
    "    def __init__(self):\n",
    "        super().__init__()\n",
    "        # Extremely important step to make layers in init, otherwise weights \n",
    "        # would be generated all over again when it would be in forward\n",
    "        self.block = make_layers(5)\n",
    "        \n",
    "    def forward(self, x):\n",
    "        # Permuting because our input isn't of shape (1, 16, 16, 128)\n",
    "        # but (1, 128, 16, 16)\n",
    "        x = self.block(x).permute(0, 2, 3, 1).reshape(-1, 5)\n",
    "        return x\n",
    "\n",
    "class RotationClassificationHead(torch.nn.Module):\n",
    "    def __init__(self):\n",
    "        super().__init__()\n",
    "        self.block = make_layers(2)\n",
    "        \n",
    "    def forward(self, x):\n",
    "        x = self.block(x).permute(0, 2, 3, 1).reshape(-1, 2)\n",
    "        return x\n",
    "\n",
    "class BoxRegressionHead(torch.nn.Module):\n",
    "    def __init__(self):\n",
    "        super().__init__()\n",
    "        self.block = make_layers(4)\n",
    "        \n",
    "    def forward(self, x):\n",
    "        x = self.block(x).permute(0, 2, 3, 1).reshape(-1, 4)\n",
    "        return x"
   ]
  },
  {
   "cell_type": "code",
   "execution_count": 9,
   "metadata": {
    "id": "Pm8y6YhNjWKD"
   },
   "outputs": [],
   "source": [
    "class DigitDetectionModel(torch.nn.Module):\n",
    "    def __init__(\n",
    "        self,\n",
    "        anchors,\n",
    "        backbone,\n",
    "        digit_classification_head,\n",
    "        rotation_classification_head,\n",
    "        box_regression_head):\n",
    "\n",
    "        super().__init__()\n",
    "        self.anchors = anchors\n",
    "        self.backbone = backbone\n",
    "        self.digit_classification_head = digit_classification_head\n",
    "        self.rotation_classification_head = rotation_classification_head\n",
    "        self.box_regression_head = box_regression_head\n",
    "        \n",
    "\n",
    "    # Model forward just consists of forwarding backbone and each of the heads\n",
    "    def forward(self, x: MnistCanvas) -> DigitDetectionModelOutput:\n",
    "        bb_out = self.backbone(x)\n",
    "        d_out = self.digit_classification_head(bb_out)\n",
    "        r_out = self.rotation_classification_head(bb_out)\n",
    "        b_out = self.box_regression_head(bb_out)\n",
    "\n",
    "        return DigitDetectionModelOutput(\n",
    "            # I do not change anchors thus I return them untouched\n",
    "            anchors = self.anchors,\n",
    "            digit_classification_output = d_out,\n",
    "            rotation_classification_output = r_out,\n",
    "            box_regression_output = b_out,\n",
    "        )"
   ]
  },
  {
   "cell_type": "markdown",
   "metadata": {
    "id": "hnZu3sdhTfTJ"
   },
   "source": [
    "### Significant overlap"
   ]
  },
  {
   "cell_type": "code",
   "execution_count": 31,
   "metadata": {
    "id": "WWcthFZQquNo"
   },
   "outputs": [],
   "source": [
    "from torchvision.ops import box_iou, nms\n",
    "import copy\n",
    "\n",
    "\n",
    "class DigitDetectionModelTarget:\n",
    "\n",
    "    def __init__(\n",
    "        self,\n",
    "        digit_classification_target: torch.Tensor,\n",
    "        rotation_classification_target: torch.Tensor,\n",
    "        box_regression_target: torch.Tensor,\n",
    "        matched_anchors: List[int],\n",
    "    ):\n",
    "        self.digit_classification_target = digit_classification_target\n",
    "        self.rotation_classification_target = rotation_classification_target\n",
    "        self.box_regression_target = box_regression_target\n",
    "        self.matched_anchors = matched_anchors\n",
    "\n",
    "\n",
    "class TargetDecoder:\n",
    "\n",
    "    def get_targets(\n",
    "        self,\n",
    "        canvas: MnistCanvas,\n",
    "        anchors: List[MnistBox],\n",
    "        iou_threshold: float=0.2,\n",
    "        nb_of_classes: int = 5,\n",
    "    ) -> DigitDetectionModelTarget:\n",
    "        # Those tensors will be used in constructing DigitDetectionModelTarget output\n",
    "        digit_class_target = torch.zeros(len(anchors), nb_of_classes, device=DEVICE)\n",
    "        rot_class_target = torch.zeros(len(anchors), 2, device=DEVICE)\n",
    "        box_reg_target = torch.zeros(len(anchors), 4, device=DEVICE)\n",
    "\n",
    "        gt_boxes = canvas.boxes\n",
    "        matched_anchs = []\n",
    "        for idx, box in enumerate(anchors):\n",
    "            gt_best = None\n",
    "            max_iou = 0.0\n",
    "            # Finding best ground truth box for each of the anchors\n",
    "            for gt_box in gt_boxes:\n",
    "                iou = gt_box.iou_with(box)\n",
    "                if iou > max(iou_threshold, max_iou):\n",
    "                    gt_best = copy.deepcopy(gt_box)\n",
    "                    max_iou = iou\n",
    "\n",
    "            # If best ground truth box was found\n",
    "            if gt_best is not None:\n",
    "                box_reg_target[idx, 0] = gt_best.x_min - box.x_min\n",
    "                box_reg_target[idx, 1] = gt_best.x_max - box.x_max\n",
    "                box_reg_target[idx, 2] = gt_best.y_min - box.y_min\n",
    "                box_reg_target[idx, 3] = gt_best.y_max - box.y_max\n",
    "                \n",
    "                digit_class_target[idx, gt_best.class_nb - 1] = 1\n",
    "\n",
    "                if gt_best.rotated:\n",
    "                    rot_class_target[idx, 1] = 1\n",
    "                else:\n",
    "                    rot_class_target[idx, 0] = 1\n",
    "                \n",
    "                matched_anchs.append(idx)\n",
    "        \n",
    "        return DigitDetectionModelTarget(\n",
    "            digit_classification_target = digit_class_target,\n",
    "            rotation_classification_target = rot_class_target,\n",
    "            box_regression_target = box_reg_target,\n",
    "            matched_anchors = matched_anchs,\n",
    "        )\n",
    "\n",
    "    def get_predictions(\n",
    "        self,\n",
    "        model_output: DigitDetectionModelOutput,\n",
    "    ) -> List[MnistBox]:\n",
    "        \n",
    "        # Threshold for torchvision.ops.nms to eliminate close to each other boxes\n",
    "        BOXES_THRESHOLD = 0.15\n",
    "        # Threshold for prediction certainty\n",
    "        PRED_THRESHOLD = 0.2\n",
    "\n",
    "        model_anchors = model_output.anchors\n",
    "        # Getting most probable digits and their scores for each anchor\n",
    "        scores, digits = model_output.digit_classification_output.max(dim=-1)\n",
    "        boxes = torch.stack([model_anchors[idx].to_tensor() for idx in range(len(model_anchors))]).to(DEVICE)\n",
    "\n",
    "        # Removing redundant anchors\n",
    "        filtered_boxes = torchvision.ops.nms(boxes.float(), scores, iou_threshold=BOXES_THRESHOLD)\n",
    "\n",
    "        # Percentage of digit certainty for each anchor\n",
    "        dig_pred = torch.sigmoid(scores)\n",
    "\n",
    "        rot_pred = model_output.rotation_classification_output\n",
    "        box_pred = model_output.box_regression_output\n",
    "\n",
    "        candidates = []\n",
    "        best_scores = []\n",
    "        bounds = []\n",
    "        for idx in filtered_boxes:\n",
    "            if dig_pred[idx].item() > PRED_THRESHOLD:\n",
    "                box = copy.deepcopy(model_anchors[idx])\n",
    "                box.x_min += box_pred[idx, 0]\n",
    "                box.x_max += box_pred[idx, 1]\n",
    "                box.y_min += box_pred[idx, 2]\n",
    "                box.y_max += box_pred[idx, 3]\n",
    "\n",
    "                box.class_nb = digits[idx] + 1\n",
    "                if torch.sigmoid(rot_pred[idx, 1]) > torch.sigmoid(rot_pred[idx, 0]):\n",
    "                    box.rotated = True\n",
    "                else:\n",
    "                    box.rotated = False\n",
    "\n",
    "                candidates.append(box)\n",
    "                best_scores.append(dig_pred[idx].item())\n",
    "                bounds.append(box.to_tensor())\n",
    "            \n",
    "        if len(candidates) == 0:\n",
    "            return []\n",
    "        \n",
    "        # Doing torchvision.ops.nms because of the possible movement of anchors\n",
    "        # due to box_pred tensor\n",
    "        output = torchvision.ops.nms(torch.stack(bounds), torch.FloatTensor(best_scores), BOXES_THRESHOLD)\n",
    "        answer = [candidates[idx] for idx in output]\n",
    "\n",
    "        return answer"
   ]
  },
  {
   "cell_type": "markdown",
   "metadata": {
    "id": "xA1Nvz6jagyP"
   },
   "source": [
    "### Metrics"
   ]
  },
  {
   "cell_type": "code",
   "execution_count": 36,
   "metadata": {
    "id": "rffXn9CQwVu4"
   },
   "outputs": [],
   "source": [
    "import torch\n",
    "import torchvision \n",
    "\n",
    "\n",
    "class RetinaLoss:\n",
    "\n",
    "    def compute_loss(\n",
    "        self,\n",
    "        model_output: DigitDetectionModelOutput,\n",
    "        model_target: DigitDetectionModelTarget,\n",
    "    ) -> Optional[torch.Tensor]:\n",
    "        \n",
    "        if len(model_target.matched_anchors) == 0:\n",
    "            return None\n",
    "        \n",
    "        # Getting boxes only on matched anchors\n",
    "        matched_anch_idx = torch.stack(model_target.matched_anchors)\n",
    "        box_target = model_target.box_regression_target[matched_anch_idx]\n",
    "        box_out = model_output.box_regression_output[matched_anch_idx]\n",
    "\n",
    "        # Loss over boxes on matched anchors\n",
    "        reg_loss = torch.nn.SmoothL1Loss(reduction='mean')\n",
    "        box_loss = reg_loss(\n",
    "            box_out,\n",
    "            box_target\n",
    "        )\n",
    "\n",
    "        # Loss over digit predictions over all anchors\n",
    "        digit_loss = torchvision.ops.sigmoid_focal_loss(\n",
    "            model_output.digit_classification_output,\n",
    "            model_target.digit_classification_target,\n",
    "            reduction='mean'\n",
    "        )\n",
    "\n",
    "        # Loss over rotation predictions over all anchors\n",
    "        rot_loss = torchvision.ops.sigmoid_focal_loss(\n",
    "            model_output.rotation_classification_output,\n",
    "            model_target.rotation_classification_target,\n",
    "            reduction='mean'\n",
    "        )\n",
    "\n",
    "        total_loss = box_loss + digit_loss + rot_loss\n",
    "\n",
    "        return total_loss\n",
    "\n",
    "\n",
    "class DigitAccuracy:\n",
    "\n",
    "    def compute_metric  (\n",
    "        self,\n",
    "        predicted_boxes: List[MnistBox],\n",
    "        canvas: MnistCanvas,\n",
    "    ):\n",
    "        canvas_boxes = canvas.boxes\n",
    "        if len(canvas_boxes) != len(predicted_boxes):\n",
    "            return 0\n",
    "        \n",
    "        for gt_box in canvas_boxes:\n",
    "            matches = 0\n",
    "            for pr_box in predicted_boxes:\n",
    "                iou = pr_box.iou_with(gt_box)\n",
    "                # Checking if given predicted box meets threshold of being accepted as valid\n",
    "                if iou > 0.5 and pr_box.class_nb == gt_box.class_nb and gt_box.rotated == pr_box.rotated:\n",
    "                    matches += 1\n",
    "            if matches == 0 or matches > 1:\n",
    "                return 0\n",
    "        # Function goes here when every of the canvas boxes has exactly one \n",
    "        # good predicted box\n",
    "        return 1"
   ]
  },
  {
   "cell_type": "markdown",
   "metadata": {
    "id": "15n5w-hhvRbS"
   },
   "source": [
    "### Model training"
   ]
  },
  {
   "cell_type": "code",
   "execution_count": 33,
   "metadata": {
    "id": "uRTU6fBJp979"
   },
   "outputs": [],
   "source": [
    "from torch.utils.data import Dataset, DataLoader\n",
    "\n",
    "class CanvasDataset(Dataset):\n",
    "\n",
    "    def __init__(self, length, all_anchors):\n",
    "        self.canvases = [get_random_canvas() for _ in range(length)]\n",
    "        self.targets = [TargetDecoder().get_targets(cur_canvas, all_anchors) for cur_canvas in self.canvases]\n",
    "\n",
    "    def __len__(self):\n",
    "        return len(self.canvases)\n",
    "\n",
    "    def __getitem__(self, idx):\n",
    "        img = self.canvases[idx].image\n",
    "        box_target = self.targets[idx].box_regression_target\n",
    "        digit_class_target = self.targets[idx].digit_classification_target\n",
    "        rot_class_target = self.targets[idx].rotation_classification_target\n",
    "        matched_anchors = self.targets[idx].matched_anchors\n",
    "\n",
    "        return {'img': img, 'box_target': box_target, 'digit_class_target': digit_class_target,\n",
    "                'rot_class_target': rot_class_target, 'matched_anchors': matched_anchors}"
   ]
  },
  {
   "cell_type": "code",
   "execution_count": 13,
   "metadata": {
    "id": "KEdGcyG14vg7"
   },
   "outputs": [],
   "source": [
    "train_dataset = CanvasDataset(1000, ANCHORS)\n",
    "train_loader = DataLoader(train_dataset, batch_size=1,\n",
    "                          shuffle=False, num_workers=0)\n",
    "\n",
    "test_dataset = [get_random_canvas() for _ in range(100)]"
   ]
  },
  {
   "cell_type": "code",
   "execution_count": 34,
   "metadata": {
    "id": "O-iAkqJ-41Fh"
   },
   "outputs": [],
   "source": [
    "import torch.optim as optim\n",
    "\n",
    "class Learner:\n",
    "    def __init__(self, my_model, loss, train_loader, test_dataset):\n",
    "        use_cuda = torch.cuda.is_available()\n",
    "        self.device = torch.device(\"cuda\" if use_cuda else \"cpu\")\n",
    "        \n",
    "        self.model = my_model\n",
    "        self.loss = loss\n",
    "        self.train_loader = train_loader\n",
    "        self.test_dataset = test_dataset\n",
    "    \n",
    "    def process_loader_data(self, data):\n",
    "        img = data['img'].squeeze().float()\n",
    "        box_target = data['box_target'].squeeze().to(self.device)\n",
    "        digit_class_target = data['digit_class_target'].squeeze().to(self.device)\n",
    "        rot_class_target = data['rot_class_target'].squeeze().to(self.device)\n",
    "        matched_anchors_idx = data['matched_anchors']\n",
    "        \n",
    "        input = MnistCanvas(img, [])\n",
    "        target = DigitDetectionModelTarget(digit_class_target, rot_class_target,\n",
    "                                            box_target, matched_anchors_idx)\n",
    "        return (input, target)\n",
    "        \n",
    "\n",
    "    def train(self, epochs, sim_batch_size, lr):\n",
    "        net = self.model.to(self.device)\n",
    "        optimizer = optim.Adam(net.parameters(), lr=lr)\n",
    "\n",
    "        for idx in range(epochs):\n",
    "            print(\"EPOCH\", idx)\n",
    "            net.train()\n",
    "            loss_sum = 0\n",
    "            loss = 0.0\n",
    "            for batch_idx, data in enumerate(self.train_loader):\n",
    "                Input, Target = self.process_loader_data(data)\n",
    "                \n",
    "                output = net(Input)\n",
    "                curr_loss = self.loss.compute_loss(output, Target)\n",
    "                loss += curr_loss\n",
    "                \n",
    "                # I simulate batching by counting loss every sim_batch_size cases\n",
    "                if (batch_idx + 1) % sim_batch_size == 0:\n",
    "                    print(\"BATCH LOSS\", loss, \"PER EXAMPLE LOSS\", loss / sim_batch_size)\n",
    "                    optimizer.zero_grad()\n",
    "                    loss.backward()\n",
    "                    optimizer.step()\n",
    "                    loss = 0\n",
    "                \n",
    "                loss_sum += curr_loss\n",
    "\n",
    "            \n",
    "            print(\"EPOCH LOSS\", loss_sum / len(self.train_loader))\n",
    "\n",
    "            net.eval()\n",
    "            correct = 0\n",
    "            for canvas in self.test_dataset:\n",
    "                output = net(canvas)\n",
    "\n",
    "                correct += DigitAccuracy().compute_metric(TargetDecoder().get_predictions(output), canvas)\n",
    "            print(\"ACCURACY\", correct / len(self.test_dataset))"
   ]
  },
  {
   "cell_type": "code",
   "execution_count": 37,
   "metadata": {
    "colab": {
     "base_uri": "https://localhost:8080/"
    },
    "id": "9wFSjDvt47V4",
    "outputId": "fe057e76-5dd9-4ddf-a3b8-8ce6a65ad6e7"
   },
   "outputs": [
    {
     "name": "stdout",
     "output_type": "stream",
     "text": [
      "EPOCH 0\n",
      "BATCH LOSS tensor(1108.4189, device='cuda:0', grad_fn=<AddBackward0>) PER EXAMPLE LOSS tensor(4.4337, device='cuda:0', grad_fn=<DivBackward0>)\n",
      "BATCH LOSS tensor(1108.8217, device='cuda:0', grad_fn=<AddBackward0>) PER EXAMPLE LOSS tensor(4.4353, device='cuda:0', grad_fn=<DivBackward0>)\n",
      "BATCH LOSS tensor(1099.4822, device='cuda:0', grad_fn=<AddBackward0>) PER EXAMPLE LOSS tensor(4.3979, device='cuda:0', grad_fn=<DivBackward0>)\n",
      "BATCH LOSS tensor(1085.5145, device='cuda:0', grad_fn=<AddBackward0>) PER EXAMPLE LOSS tensor(4.3421, device='cuda:0', grad_fn=<DivBackward0>)\n",
      "EPOCH LOSS tensor(4.4022, device='cuda:0', grad_fn=<DivBackward0>)\n",
      "ACCURACY 0.0\n",
      "EPOCH 1\n",
      "BATCH LOSS tensor(1049.5824, device='cuda:0', grad_fn=<AddBackward0>) PER EXAMPLE LOSS tensor(4.1983, device='cuda:0', grad_fn=<DivBackward0>)\n",
      "BATCH LOSS tensor(1006.9949, device='cuda:0', grad_fn=<AddBackward0>) PER EXAMPLE LOSS tensor(4.0280, device='cuda:0', grad_fn=<DivBackward0>)\n",
      "BATCH LOSS tensor(974.9680, device='cuda:0', grad_fn=<AddBackward0>) PER EXAMPLE LOSS tensor(3.8999, device='cuda:0', grad_fn=<DivBackward0>)\n",
      "BATCH LOSS tensor(1003.3096, device='cuda:0', grad_fn=<AddBackward0>) PER EXAMPLE LOSS tensor(4.0132, device='cuda:0', grad_fn=<DivBackward0>)\n",
      "EPOCH LOSS tensor(4.0349, device='cuda:0', grad_fn=<DivBackward0>)\n",
      "ACCURACY 0.0\n",
      "EPOCH 2\n",
      "BATCH LOSS tensor(969.4923, device='cuda:0', grad_fn=<AddBackward0>) PER EXAMPLE LOSS tensor(3.8780, device='cuda:0', grad_fn=<DivBackward0>)\n",
      "BATCH LOSS tensor(949.6744, device='cuda:0', grad_fn=<AddBackward0>) PER EXAMPLE LOSS tensor(3.7987, device='cuda:0', grad_fn=<DivBackward0>)\n",
      "BATCH LOSS tensor(946.2723, device='cuda:0', grad_fn=<AddBackward0>) PER EXAMPLE LOSS tensor(3.7851, device='cuda:0', grad_fn=<DivBackward0>)\n",
      "BATCH LOSS tensor(947.1934, device='cuda:0', grad_fn=<AddBackward0>) PER EXAMPLE LOSS tensor(3.7888, device='cuda:0', grad_fn=<DivBackward0>)\n",
      "EPOCH LOSS tensor(3.8126, device='cuda:0', grad_fn=<DivBackward0>)\n",
      "ACCURACY 0.0\n",
      "EPOCH 3\n",
      "BATCH LOSS tensor(938.8105, device='cuda:0', grad_fn=<AddBackward0>) PER EXAMPLE LOSS tensor(3.7552, device='cuda:0', grad_fn=<DivBackward0>)\n",
      "BATCH LOSS tensor(927.8417, device='cuda:0', grad_fn=<AddBackward0>) PER EXAMPLE LOSS tensor(3.7114, device='cuda:0', grad_fn=<DivBackward0>)\n",
      "BATCH LOSS tensor(909.2292, device='cuda:0', grad_fn=<AddBackward0>) PER EXAMPLE LOSS tensor(3.6369, device='cuda:0', grad_fn=<DivBackward0>)\n",
      "BATCH LOSS tensor(887.5909, device='cuda:0', grad_fn=<AddBackward0>) PER EXAMPLE LOSS tensor(3.5504, device='cuda:0', grad_fn=<DivBackward0>)\n",
      "EPOCH LOSS tensor(3.6635, device='cuda:0', grad_fn=<DivBackward0>)\n",
      "ACCURACY 0.0\n",
      "EPOCH 4\n",
      "BATCH LOSS tensor(860.8157, device='cuda:0', grad_fn=<AddBackward0>) PER EXAMPLE LOSS tensor(3.4433, device='cuda:0', grad_fn=<DivBackward0>)\n",
      "BATCH LOSS tensor(826.4510, device='cuda:0', grad_fn=<AddBackward0>) PER EXAMPLE LOSS tensor(3.3058, device='cuda:0', grad_fn=<DivBackward0>)\n",
      "BATCH LOSS tensor(780.2614, device='cuda:0', grad_fn=<AddBackward0>) PER EXAMPLE LOSS tensor(3.1210, device='cuda:0', grad_fn=<DivBackward0>)\n",
      "BATCH LOSS tensor(718.8317, device='cuda:0', grad_fn=<AddBackward0>) PER EXAMPLE LOSS tensor(2.8753, device='cuda:0', grad_fn=<DivBackward0>)\n",
      "EPOCH LOSS tensor(3.1864, device='cuda:0', grad_fn=<DivBackward0>)\n",
      "ACCURACY 0.0\n",
      "EPOCH 5\n",
      "BATCH LOSS tensor(644.9088, device='cuda:0', grad_fn=<AddBackward0>) PER EXAMPLE LOSS tensor(2.5796, device='cuda:0', grad_fn=<DivBackward0>)\n",
      "BATCH LOSS tensor(576.9519, device='cuda:0', grad_fn=<AddBackward0>) PER EXAMPLE LOSS tensor(2.3078, device='cuda:0', grad_fn=<DivBackward0>)\n",
      "BATCH LOSS tensor(549.5425, device='cuda:0', grad_fn=<AddBackward0>) PER EXAMPLE LOSS tensor(2.1982, device='cuda:0', grad_fn=<DivBackward0>)\n",
      "BATCH LOSS tensor(544.1811, device='cuda:0', grad_fn=<AddBackward0>) PER EXAMPLE LOSS tensor(2.1767, device='cuda:0', grad_fn=<DivBackward0>)\n",
      "EPOCH LOSS tensor(2.3156, device='cuda:0', grad_fn=<DivBackward0>)\n",
      "ACCURACY 0.0\n",
      "EPOCH 6\n",
      "BATCH LOSS tensor(538.2704, device='cuda:0', grad_fn=<AddBackward0>) PER EXAMPLE LOSS tensor(2.1531, device='cuda:0', grad_fn=<DivBackward0>)\n",
      "BATCH LOSS tensor(533.7966, device='cuda:0', grad_fn=<AddBackward0>) PER EXAMPLE LOSS tensor(2.1352, device='cuda:0', grad_fn=<DivBackward0>)\n",
      "BATCH LOSS tensor(532.8757, device='cuda:0', grad_fn=<AddBackward0>) PER EXAMPLE LOSS tensor(2.1315, device='cuda:0', grad_fn=<DivBackward0>)\n",
      "BATCH LOSS tensor(526.4152, device='cuda:0', grad_fn=<AddBackward0>) PER EXAMPLE LOSS tensor(2.1057, device='cuda:0', grad_fn=<DivBackward0>)\n",
      "EPOCH LOSS tensor(2.1314, device='cuda:0', grad_fn=<DivBackward0>)\n",
      "ACCURACY 0.0\n",
      "EPOCH 7\n",
      "BATCH LOSS tensor(513.9768, device='cuda:0', grad_fn=<AddBackward0>) PER EXAMPLE LOSS tensor(2.0559, device='cuda:0', grad_fn=<DivBackward0>)\n",
      "BATCH LOSS tensor(497.0635, device='cuda:0', grad_fn=<AddBackward0>) PER EXAMPLE LOSS tensor(1.9883, device='cuda:0', grad_fn=<DivBackward0>)\n",
      "BATCH LOSS tensor(487.0939, device='cuda:0', grad_fn=<AddBackward0>) PER EXAMPLE LOSS tensor(1.9484, device='cuda:0', grad_fn=<DivBackward0>)\n",
      "BATCH LOSS tensor(479.1225, device='cuda:0', grad_fn=<AddBackward0>) PER EXAMPLE LOSS tensor(1.9165, device='cuda:0', grad_fn=<DivBackward0>)\n",
      "EPOCH LOSS tensor(1.9773, device='cuda:0', grad_fn=<DivBackward0>)\n",
      "ACCURACY 0.0\n",
      "EPOCH 8\n",
      "BATCH LOSS tensor(469.2018, device='cuda:0', grad_fn=<AddBackward0>) PER EXAMPLE LOSS tensor(1.8768, device='cuda:0', grad_fn=<DivBackward0>)\n",
      "BATCH LOSS tensor(456.5606, device='cuda:0', grad_fn=<AddBackward0>) PER EXAMPLE LOSS tensor(1.8262, device='cuda:0', grad_fn=<DivBackward0>)\n",
      "BATCH LOSS tensor(453.0102, device='cuda:0', grad_fn=<AddBackward0>) PER EXAMPLE LOSS tensor(1.8120, device='cuda:0', grad_fn=<DivBackward0>)\n",
      "BATCH LOSS tensor(449.4194, device='cuda:0', grad_fn=<AddBackward0>) PER EXAMPLE LOSS tensor(1.7977, device='cuda:0', grad_fn=<DivBackward0>)\n",
      "EPOCH LOSS tensor(1.8282, device='cuda:0', grad_fn=<DivBackward0>)\n",
      "ACCURACY 0.0\n",
      "EPOCH 9\n",
      "BATCH LOSS tensor(442.4169, device='cuda:0', grad_fn=<AddBackward0>) PER EXAMPLE LOSS tensor(1.7697, device='cuda:0', grad_fn=<DivBackward0>)\n",
      "BATCH LOSS tensor(432.7239, device='cuda:0', grad_fn=<AddBackward0>) PER EXAMPLE LOSS tensor(1.7309, device='cuda:0', grad_fn=<DivBackward0>)\n",
      "BATCH LOSS tensor(432.3925, device='cuda:0', grad_fn=<AddBackward0>) PER EXAMPLE LOSS tensor(1.7296, device='cuda:0', grad_fn=<DivBackward0>)\n",
      "BATCH LOSS tensor(429.1603, device='cuda:0', grad_fn=<AddBackward0>) PER EXAMPLE LOSS tensor(1.7166, device='cuda:0', grad_fn=<DivBackward0>)\n",
      "EPOCH LOSS tensor(1.7367, device='cuda:0', grad_fn=<DivBackward0>)\n",
      "ACCURACY 0.0\n",
      "EPOCH 10\n",
      "BATCH LOSS tensor(423.2194, device='cuda:0', grad_fn=<AddBackward0>) PER EXAMPLE LOSS tensor(1.6929, device='cuda:0', grad_fn=<DivBackward0>)\n",
      "BATCH LOSS tensor(412.4664, device='cuda:0', grad_fn=<AddBackward0>) PER EXAMPLE LOSS tensor(1.6499, device='cuda:0', grad_fn=<DivBackward0>)\n",
      "BATCH LOSS tensor(412.5293, device='cuda:0', grad_fn=<AddBackward0>) PER EXAMPLE LOSS tensor(1.6501, device='cuda:0', grad_fn=<DivBackward0>)\n",
      "BATCH LOSS tensor(410.2949, device='cuda:0', grad_fn=<AddBackward0>) PER EXAMPLE LOSS tensor(1.6412, device='cuda:0', grad_fn=<DivBackward0>)\n",
      "EPOCH LOSS tensor(1.6585, device='cuda:0', grad_fn=<DivBackward0>)\n",
      "ACCURACY 0.0\n",
      "EPOCH 11\n",
      "BATCH LOSS tensor(405.8374, device='cuda:0', grad_fn=<AddBackward0>) PER EXAMPLE LOSS tensor(1.6233, device='cuda:0', grad_fn=<DivBackward0>)\n",
      "BATCH LOSS tensor(396.4058, device='cuda:0', grad_fn=<AddBackward0>) PER EXAMPLE LOSS tensor(1.5856, device='cuda:0', grad_fn=<DivBackward0>)\n",
      "BATCH LOSS tensor(397.1902, device='cuda:0', grad_fn=<AddBackward0>) PER EXAMPLE LOSS tensor(1.5888, device='cuda:0', grad_fn=<DivBackward0>)\n",
      "BATCH LOSS tensor(396.0866, device='cuda:0', grad_fn=<AddBackward0>) PER EXAMPLE LOSS tensor(1.5843, device='cuda:0', grad_fn=<DivBackward0>)\n",
      "EPOCH LOSS tensor(1.5955, device='cuda:0', grad_fn=<DivBackward0>)\n",
      "ACCURACY 0.0\n",
      "EPOCH 12\n",
      "BATCH LOSS tensor(392.2695, device='cuda:0', grad_fn=<AddBackward0>) PER EXAMPLE LOSS tensor(1.5691, device='cuda:0', grad_fn=<DivBackward0>)\n",
      "BATCH LOSS tensor(383.5369, device='cuda:0', grad_fn=<AddBackward0>) PER EXAMPLE LOSS tensor(1.5341, device='cuda:0', grad_fn=<DivBackward0>)\n",
      "BATCH LOSS tensor(383.4763, device='cuda:0', grad_fn=<AddBackward0>) PER EXAMPLE LOSS tensor(1.5339, device='cuda:0', grad_fn=<DivBackward0>)\n",
      "BATCH LOSS tensor(382.8274, device='cuda:0', grad_fn=<AddBackward0>) PER EXAMPLE LOSS tensor(1.5313, device='cuda:0', grad_fn=<DivBackward0>)\n",
      "EPOCH LOSS tensor(1.5421, device='cuda:0', grad_fn=<DivBackward0>)\n",
      "ACCURACY 0.0\n",
      "EPOCH 13\n",
      "BATCH LOSS tensor(378.5764, device='cuda:0', grad_fn=<AddBackward0>) PER EXAMPLE LOSS tensor(1.5143, device='cuda:0', grad_fn=<DivBackward0>)\n",
      "BATCH LOSS tensor(369.5986, device='cuda:0', grad_fn=<AddBackward0>) PER EXAMPLE LOSS tensor(1.4784, device='cuda:0', grad_fn=<DivBackward0>)\n",
      "BATCH LOSS tensor(369.1864, device='cuda:0', grad_fn=<AddBackward0>) PER EXAMPLE LOSS tensor(1.4767, device='cuda:0', grad_fn=<DivBackward0>)\n",
      "BATCH LOSS tensor(368.8066, device='cuda:0', grad_fn=<AddBackward0>) PER EXAMPLE LOSS tensor(1.4752, device='cuda:0', grad_fn=<DivBackward0>)\n",
      "EPOCH LOSS tensor(1.4862, device='cuda:0', grad_fn=<DivBackward0>)\n",
      "ACCURACY 0.0\n",
      "EPOCH 14\n",
      "BATCH LOSS tensor(364.4033, device='cuda:0', grad_fn=<AddBackward0>) PER EXAMPLE LOSS tensor(1.4576, device='cuda:0', grad_fn=<DivBackward0>)\n",
      "BATCH LOSS tensor(355.7076, device='cuda:0', grad_fn=<AddBackward0>) PER EXAMPLE LOSS tensor(1.4228, device='cuda:0', grad_fn=<DivBackward0>)\n",
      "BATCH LOSS tensor(355.3800, device='cuda:0', grad_fn=<AddBackward0>) PER EXAMPLE LOSS tensor(1.4215, device='cuda:0', grad_fn=<DivBackward0>)\n",
      "BATCH LOSS tensor(355.1515, device='cuda:0', grad_fn=<AddBackward0>) PER EXAMPLE LOSS tensor(1.4206, device='cuda:0', grad_fn=<DivBackward0>)\n",
      "EPOCH LOSS tensor(1.4306, device='cuda:0', grad_fn=<DivBackward0>)\n",
      "ACCURACY 0.0\n",
      "EPOCH 15\n",
      "BATCH LOSS tensor(349.7652, device='cuda:0', grad_fn=<AddBackward0>) PER EXAMPLE LOSS tensor(1.3991, device='cuda:0', grad_fn=<DivBackward0>)\n",
      "BATCH LOSS tensor(340.8790, device='cuda:0', grad_fn=<AddBackward0>) PER EXAMPLE LOSS tensor(1.3635, device='cuda:0', grad_fn=<DivBackward0>)\n",
      "BATCH LOSS tensor(339.8398, device='cuda:0', grad_fn=<AddBackward0>) PER EXAMPLE LOSS tensor(1.3594, device='cuda:0', grad_fn=<DivBackward0>)\n",
      "BATCH LOSS tensor(339.6341, device='cuda:0', grad_fn=<AddBackward0>) PER EXAMPLE LOSS tensor(1.3585, device='cuda:0', grad_fn=<DivBackward0>)\n",
      "EPOCH LOSS tensor(1.3701, device='cuda:0', grad_fn=<DivBackward0>)\n",
      "ACCURACY 0.0\n",
      "EPOCH 16\n",
      "BATCH LOSS tensor(334.0195, device='cuda:0', grad_fn=<AddBackward0>) PER EXAMPLE LOSS tensor(1.3361, device='cuda:0', grad_fn=<DivBackward0>)\n",
      "BATCH LOSS tensor(325.6329, device='cuda:0', grad_fn=<AddBackward0>) PER EXAMPLE LOSS tensor(1.3025, device='cuda:0', grad_fn=<DivBackward0>)\n",
      "BATCH LOSS tensor(324.1431, device='cuda:0', grad_fn=<AddBackward0>) PER EXAMPLE LOSS tensor(1.2966, device='cuda:0', grad_fn=<DivBackward0>)\n",
      "BATCH LOSS tensor(324.0789, device='cuda:0', grad_fn=<AddBackward0>) PER EXAMPLE LOSS tensor(1.2963, device='cuda:0', grad_fn=<DivBackward0>)\n",
      "EPOCH LOSS tensor(1.3079, device='cuda:0', grad_fn=<DivBackward0>)\n",
      "ACCURACY 0.0\n",
      "EPOCH 17\n",
      "BATCH LOSS tensor(317.9509, device='cuda:0', grad_fn=<AddBackward0>) PER EXAMPLE LOSS tensor(1.2718, device='cuda:0', grad_fn=<DivBackward0>)\n",
      "BATCH LOSS tensor(309.4902, device='cuda:0', grad_fn=<AddBackward0>) PER EXAMPLE LOSS tensor(1.2380, device='cuda:0', grad_fn=<DivBackward0>)\n",
      "BATCH LOSS tensor(307.8098, device='cuda:0', grad_fn=<AddBackward0>) PER EXAMPLE LOSS tensor(1.2312, device='cuda:0', grad_fn=<DivBackward0>)\n",
      "BATCH LOSS tensor(308.2077, device='cuda:0', grad_fn=<AddBackward0>) PER EXAMPLE LOSS tensor(1.2328, device='cuda:0', grad_fn=<DivBackward0>)\n",
      "EPOCH LOSS tensor(1.2435, device='cuda:0', grad_fn=<DivBackward0>)\n",
      "ACCURACY 0.0\n",
      "EPOCH 18\n",
      "BATCH LOSS tensor(302.4839, device='cuda:0', grad_fn=<AddBackward0>) PER EXAMPLE LOSS tensor(1.2099, device='cuda:0', grad_fn=<DivBackward0>)\n",
      "BATCH LOSS tensor(293.9653, device='cuda:0', grad_fn=<AddBackward0>) PER EXAMPLE LOSS tensor(1.1759, device='cuda:0', grad_fn=<DivBackward0>)\n",
      "BATCH LOSS tensor(292.6684, device='cuda:0', grad_fn=<AddBackward0>) PER EXAMPLE LOSS tensor(1.1707, device='cuda:0', grad_fn=<DivBackward0>)\n",
      "BATCH LOSS tensor(292.7476, device='cuda:0', grad_fn=<AddBackward0>) PER EXAMPLE LOSS tensor(1.1710, device='cuda:0', grad_fn=<DivBackward0>)\n",
      "EPOCH LOSS tensor(1.1819, device='cuda:0', grad_fn=<DivBackward0>)\n",
      "ACCURACY 0.0\n",
      "EPOCH 19\n",
      "BATCH LOSS tensor(287.8328, device='cuda:0', grad_fn=<AddBackward0>) PER EXAMPLE LOSS tensor(1.1513, device='cuda:0', grad_fn=<DivBackward0>)\n",
      "BATCH LOSS tensor(278.9535, device='cuda:0', grad_fn=<AddBackward0>) PER EXAMPLE LOSS tensor(1.1158, device='cuda:0', grad_fn=<DivBackward0>)\n",
      "BATCH LOSS tensor(278.0578, device='cuda:0', grad_fn=<AddBackward0>) PER EXAMPLE LOSS tensor(1.1122, device='cuda:0', grad_fn=<DivBackward0>)\n",
      "BATCH LOSS tensor(277.0115, device='cuda:0', grad_fn=<AddBackward0>) PER EXAMPLE LOSS tensor(1.1080, device='cuda:0', grad_fn=<DivBackward0>)\n",
      "EPOCH LOSS tensor(1.1219, device='cuda:0', grad_fn=<DivBackward0>)\n",
      "ACCURACY 0.0\n",
      "EPOCH 20\n",
      "BATCH LOSS tensor(273.4756, device='cuda:0', grad_fn=<AddBackward0>) PER EXAMPLE LOSS tensor(1.0939, device='cuda:0', grad_fn=<DivBackward0>)\n",
      "BATCH LOSS tensor(264.6239, device='cuda:0', grad_fn=<AddBackward0>) PER EXAMPLE LOSS tensor(1.0585, device='cuda:0', grad_fn=<DivBackward0>)\n",
      "BATCH LOSS tensor(264.7412, device='cuda:0', grad_fn=<AddBackward0>) PER EXAMPLE LOSS tensor(1.0590, device='cuda:0', grad_fn=<DivBackward0>)\n",
      "BATCH LOSS tensor(263.7126, device='cuda:0', grad_fn=<AddBackward0>) PER EXAMPLE LOSS tensor(1.0549, device='cuda:0', grad_fn=<DivBackward0>)\n",
      "EPOCH LOSS tensor(1.0666, device='cuda:0', grad_fn=<DivBackward0>)\n",
      "ACCURACY 0.0\n",
      "EPOCH 21\n",
      "BATCH LOSS tensor(261.5945, device='cuda:0', grad_fn=<AddBackward0>) PER EXAMPLE LOSS tensor(1.0464, device='cuda:0', grad_fn=<DivBackward0>)\n",
      "BATCH LOSS tensor(253.6639, device='cuda:0', grad_fn=<AddBackward0>) PER EXAMPLE LOSS tensor(1.0147, device='cuda:0', grad_fn=<DivBackward0>)\n",
      "BATCH LOSS tensor(253.4759, device='cuda:0', grad_fn=<AddBackward0>) PER EXAMPLE LOSS tensor(1.0139, device='cuda:0', grad_fn=<DivBackward0>)\n",
      "BATCH LOSS tensor(252.0058, device='cuda:0', grad_fn=<AddBackward0>) PER EXAMPLE LOSS tensor(1.0080, device='cuda:0', grad_fn=<DivBackward0>)\n",
      "EPOCH LOSS tensor(1.0207, device='cuda:0', grad_fn=<DivBackward0>)\n",
      "ACCURACY 0.0\n",
      "EPOCH 22\n",
      "BATCH LOSS tensor(249.1420, device='cuda:0', grad_fn=<AddBackward0>) PER EXAMPLE LOSS tensor(0.9966, device='cuda:0', grad_fn=<DivBackward0>)\n",
      "BATCH LOSS tensor(241.5072, device='cuda:0', grad_fn=<AddBackward0>) PER EXAMPLE LOSS tensor(0.9660, device='cuda:0', grad_fn=<DivBackward0>)\n",
      "BATCH LOSS tensor(240.5502, device='cuda:0', grad_fn=<AddBackward0>) PER EXAMPLE LOSS tensor(0.9622, device='cuda:0', grad_fn=<DivBackward0>)\n",
      "BATCH LOSS tensor(240.3949, device='cuda:0', grad_fn=<AddBackward0>) PER EXAMPLE LOSS tensor(0.9616, device='cuda:0', grad_fn=<DivBackward0>)\n",
      "EPOCH LOSS tensor(0.9716, device='cuda:0', grad_fn=<DivBackward0>)\n",
      "ACCURACY 0.0\n",
      "EPOCH 23\n",
      "BATCH LOSS tensor(238.6821, device='cuda:0', grad_fn=<AddBackward0>) PER EXAMPLE LOSS tensor(0.9547, device='cuda:0', grad_fn=<DivBackward0>)\n",
      "BATCH LOSS tensor(232.5618, device='cuda:0', grad_fn=<AddBackward0>) PER EXAMPLE LOSS tensor(0.9302, device='cuda:0', grad_fn=<DivBackward0>)\n",
      "BATCH LOSS tensor(231.2810, device='cuda:0', grad_fn=<AddBackward0>) PER EXAMPLE LOSS tensor(0.9251, device='cuda:0', grad_fn=<DivBackward0>)\n",
      "BATCH LOSS tensor(232.8195, device='cuda:0', grad_fn=<AddBackward0>) PER EXAMPLE LOSS tensor(0.9313, device='cuda:0', grad_fn=<DivBackward0>)\n",
      "EPOCH LOSS tensor(0.9353, device='cuda:0', grad_fn=<DivBackward0>)\n",
      "ACCURACY 0.0\n",
      "EPOCH 24\n",
      "BATCH LOSS tensor(230.9953, device='cuda:0', grad_fn=<AddBackward0>) PER EXAMPLE LOSS tensor(0.9240, device='cuda:0', grad_fn=<DivBackward0>)\n",
      "BATCH LOSS tensor(226.5998, device='cuda:0', grad_fn=<AddBackward0>) PER EXAMPLE LOSS tensor(0.9064, device='cuda:0', grad_fn=<DivBackward0>)\n",
      "BATCH LOSS tensor(222.6159, device='cuda:0', grad_fn=<AddBackward0>) PER EXAMPLE LOSS tensor(0.8905, device='cuda:0', grad_fn=<DivBackward0>)\n",
      "BATCH LOSS tensor(224.7369, device='cuda:0', grad_fn=<AddBackward0>) PER EXAMPLE LOSS tensor(0.8989, device='cuda:0', grad_fn=<DivBackward0>)\n",
      "EPOCH LOSS tensor(0.9049, device='cuda:0', grad_fn=<DivBackward0>)\n",
      "ACCURACY 0.0\n",
      "EPOCH 25\n",
      "BATCH LOSS tensor(221.9219, device='cuda:0', grad_fn=<AddBackward0>) PER EXAMPLE LOSS tensor(0.8877, device='cuda:0', grad_fn=<DivBackward0>)\n",
      "BATCH LOSS tensor(217.6660, device='cuda:0', grad_fn=<AddBackward0>) PER EXAMPLE LOSS tensor(0.8707, device='cuda:0', grad_fn=<DivBackward0>)\n",
      "BATCH LOSS tensor(213.9023, device='cuda:0', grad_fn=<AddBackward0>) PER EXAMPLE LOSS tensor(0.8556, device='cuda:0', grad_fn=<DivBackward0>)\n",
      "BATCH LOSS tensor(218.0469, device='cuda:0', grad_fn=<AddBackward0>) PER EXAMPLE LOSS tensor(0.8722, device='cuda:0', grad_fn=<DivBackward0>)\n",
      "EPOCH LOSS tensor(0.8715, device='cuda:0', grad_fn=<DivBackward0>)\n",
      "ACCURACY 0.0\n",
      "EPOCH 26\n",
      "BATCH LOSS tensor(215.4669, device='cuda:0', grad_fn=<AddBackward0>) PER EXAMPLE LOSS tensor(0.8619, device='cuda:0', grad_fn=<DivBackward0>)\n",
      "BATCH LOSS tensor(211.1361, device='cuda:0', grad_fn=<AddBackward0>) PER EXAMPLE LOSS tensor(0.8445, device='cuda:0', grad_fn=<DivBackward0>)\n",
      "BATCH LOSS tensor(207.4939, device='cuda:0', grad_fn=<AddBackward0>) PER EXAMPLE LOSS tensor(0.8300, device='cuda:0', grad_fn=<DivBackward0>)\n",
      "BATCH LOSS tensor(211.9203, device='cuda:0', grad_fn=<AddBackward0>) PER EXAMPLE LOSS tensor(0.8477, device='cuda:0', grad_fn=<DivBackward0>)\n",
      "EPOCH LOSS tensor(0.8460, device='cuda:0', grad_fn=<DivBackward0>)\n",
      "ACCURACY 0.04\n",
      "EPOCH 27\n",
      "BATCH LOSS tensor(209.7733, device='cuda:0', grad_fn=<AddBackward0>) PER EXAMPLE LOSS tensor(0.8391, device='cuda:0', grad_fn=<DivBackward0>)\n",
      "BATCH LOSS tensor(206.3936, device='cuda:0', grad_fn=<AddBackward0>) PER EXAMPLE LOSS tensor(0.8256, device='cuda:0', grad_fn=<DivBackward0>)\n",
      "BATCH LOSS tensor(203.1941, device='cuda:0', grad_fn=<AddBackward0>) PER EXAMPLE LOSS tensor(0.8128, device='cuda:0', grad_fn=<DivBackward0>)\n",
      "BATCH LOSS tensor(207.5004, device='cuda:0', grad_fn=<AddBackward0>) PER EXAMPLE LOSS tensor(0.8300, device='cuda:0', grad_fn=<DivBackward0>)\n",
      "EPOCH LOSS tensor(0.8269, device='cuda:0', grad_fn=<DivBackward0>)\n",
      "ACCURACY 0.03\n",
      "EPOCH 28\n",
      "BATCH LOSS tensor(206.0401, device='cuda:0', grad_fn=<AddBackward0>) PER EXAMPLE LOSS tensor(0.8242, device='cuda:0', grad_fn=<DivBackward0>)\n",
      "BATCH LOSS tensor(199.4912, device='cuda:0', grad_fn=<AddBackward0>) PER EXAMPLE LOSS tensor(0.7980, device='cuda:0', grad_fn=<DivBackward0>)\n",
      "BATCH LOSS tensor(197.6257, device='cuda:0', grad_fn=<AddBackward0>) PER EXAMPLE LOSS tensor(0.7905, device='cuda:0', grad_fn=<DivBackward0>)\n",
      "BATCH LOSS tensor(199.2471, device='cuda:0', grad_fn=<AddBackward0>) PER EXAMPLE LOSS tensor(0.7970, device='cuda:0', grad_fn=<DivBackward0>)\n",
      "EPOCH LOSS tensor(0.8024, device='cuda:0', grad_fn=<DivBackward0>)\n",
      "ACCURACY 0.01\n",
      "EPOCH 29\n",
      "BATCH LOSS tensor(200.8526, device='cuda:0', grad_fn=<AddBackward0>) PER EXAMPLE LOSS tensor(0.8034, device='cuda:0', grad_fn=<DivBackward0>)\n",
      "BATCH LOSS tensor(192.5609, device='cuda:0', grad_fn=<AddBackward0>) PER EXAMPLE LOSS tensor(0.7702, device='cuda:0', grad_fn=<DivBackward0>)\n",
      "BATCH LOSS tensor(193.8134, device='cuda:0', grad_fn=<AddBackward0>) PER EXAMPLE LOSS tensor(0.7753, device='cuda:0', grad_fn=<DivBackward0>)\n",
      "BATCH LOSS tensor(191.8680, device='cuda:0', grad_fn=<AddBackward0>) PER EXAMPLE LOSS tensor(0.7675, device='cuda:0', grad_fn=<DivBackward0>)\n",
      "EPOCH LOSS tensor(0.7791, device='cuda:0', grad_fn=<DivBackward0>)\n",
      "ACCURACY 0.0\n",
      "EPOCH 30\n",
      "BATCH LOSS tensor(196.6631, device='cuda:0', grad_fn=<AddBackward0>) PER EXAMPLE LOSS tensor(0.7867, device='cuda:0', grad_fn=<DivBackward0>)\n",
      "BATCH LOSS tensor(186.6892, device='cuda:0', grad_fn=<AddBackward0>) PER EXAMPLE LOSS tensor(0.7468, device='cuda:0', grad_fn=<DivBackward0>)\n",
      "BATCH LOSS tensor(191.5238, device='cuda:0', grad_fn=<AddBackward0>) PER EXAMPLE LOSS tensor(0.7661, device='cuda:0', grad_fn=<DivBackward0>)\n",
      "BATCH LOSS tensor(189.2919, device='cuda:0', grad_fn=<AddBackward0>) PER EXAMPLE LOSS tensor(0.7572, device='cuda:0', grad_fn=<DivBackward0>)\n",
      "EPOCH LOSS tensor(0.7642, device='cuda:0', grad_fn=<DivBackward0>)\n",
      "ACCURACY 0.03\n",
      "EPOCH 31\n",
      "BATCH LOSS tensor(195.7828, device='cuda:0', grad_fn=<AddBackward0>) PER EXAMPLE LOSS tensor(0.7831, device='cuda:0', grad_fn=<DivBackward0>)\n",
      "BATCH LOSS tensor(183.1012, device='cuda:0', grad_fn=<AddBackward0>) PER EXAMPLE LOSS tensor(0.7324, device='cuda:0', grad_fn=<DivBackward0>)\n",
      "BATCH LOSS tensor(185.4983, device='cuda:0', grad_fn=<AddBackward0>) PER EXAMPLE LOSS tensor(0.7420, device='cuda:0', grad_fn=<DivBackward0>)\n",
      "BATCH LOSS tensor(182.0340, device='cuda:0', grad_fn=<AddBackward0>) PER EXAMPLE LOSS tensor(0.7281, device='cuda:0', grad_fn=<DivBackward0>)\n",
      "EPOCH LOSS tensor(0.7464, device='cuda:0', grad_fn=<DivBackward0>)\n",
      "ACCURACY 0.02\n",
      "EPOCH 32\n",
      "BATCH LOSS tensor(188.1546, device='cuda:0', grad_fn=<AddBackward0>) PER EXAMPLE LOSS tensor(0.7526, device='cuda:0', grad_fn=<DivBackward0>)\n",
      "BATCH LOSS tensor(178.2689, device='cuda:0', grad_fn=<AddBackward0>) PER EXAMPLE LOSS tensor(0.7131, device='cuda:0', grad_fn=<DivBackward0>)\n",
      "BATCH LOSS tensor(179.7100, device='cuda:0', grad_fn=<AddBackward0>) PER EXAMPLE LOSS tensor(0.7188, device='cuda:0', grad_fn=<DivBackward0>)\n",
      "BATCH LOSS tensor(178.8015, device='cuda:0', grad_fn=<AddBackward0>) PER EXAMPLE LOSS tensor(0.7152, device='cuda:0', grad_fn=<DivBackward0>)\n",
      "EPOCH LOSS tensor(0.7249, device='cuda:0', grad_fn=<DivBackward0>)\n",
      "ACCURACY 0.04\n",
      "EPOCH 33\n",
      "BATCH LOSS tensor(182.1995, device='cuda:0', grad_fn=<AddBackward0>) PER EXAMPLE LOSS tensor(0.7288, device='cuda:0', grad_fn=<DivBackward0>)\n",
      "BATCH LOSS tensor(175.4164, device='cuda:0', grad_fn=<AddBackward0>) PER EXAMPLE LOSS tensor(0.7017, device='cuda:0', grad_fn=<DivBackward0>)\n",
      "BATCH LOSS tensor(174.9066, device='cuda:0', grad_fn=<AddBackward0>) PER EXAMPLE LOSS tensor(0.6996, device='cuda:0', grad_fn=<DivBackward0>)\n",
      "BATCH LOSS tensor(177.0692, device='cuda:0', grad_fn=<AddBackward0>) PER EXAMPLE LOSS tensor(0.7083, device='cuda:0', grad_fn=<DivBackward0>)\n",
      "EPOCH LOSS tensor(0.7096, device='cuda:0', grad_fn=<DivBackward0>)\n",
      "ACCURACY 0.04\n",
      "EPOCH 34\n",
      "BATCH LOSS tensor(180.5565, device='cuda:0', grad_fn=<AddBackward0>) PER EXAMPLE LOSS tensor(0.7222, device='cuda:0', grad_fn=<DivBackward0>)\n",
      "BATCH LOSS tensor(173.7639, device='cuda:0', grad_fn=<AddBackward0>) PER EXAMPLE LOSS tensor(0.6951, device='cuda:0', grad_fn=<DivBackward0>)\n",
      "BATCH LOSS tensor(170.2393, device='cuda:0', grad_fn=<AddBackward0>) PER EXAMPLE LOSS tensor(0.6810, device='cuda:0', grad_fn=<DivBackward0>)\n",
      "BATCH LOSS tensor(171.4325, device='cuda:0', grad_fn=<AddBackward0>) PER EXAMPLE LOSS tensor(0.6857, device='cuda:0', grad_fn=<DivBackward0>)\n",
      "EPOCH LOSS tensor(0.6960, device='cuda:0', grad_fn=<DivBackward0>)\n",
      "ACCURACY 0.05\n",
      "EPOCH 35\n",
      "BATCH LOSS tensor(173.4066, device='cuda:0', grad_fn=<AddBackward0>) PER EXAMPLE LOSS tensor(0.6936, device='cuda:0', grad_fn=<DivBackward0>)\n",
      "BATCH LOSS tensor(168.1110, device='cuda:0', grad_fn=<AddBackward0>) PER EXAMPLE LOSS tensor(0.6724, device='cuda:0', grad_fn=<DivBackward0>)\n",
      "BATCH LOSS tensor(167.3267, device='cuda:0', grad_fn=<AddBackward0>) PER EXAMPLE LOSS tensor(0.6693, device='cuda:0', grad_fn=<DivBackward0>)\n",
      "BATCH LOSS tensor(168.1512, device='cuda:0', grad_fn=<AddBackward0>) PER EXAMPLE LOSS tensor(0.6726, device='cuda:0', grad_fn=<DivBackward0>)\n",
      "EPOCH LOSS tensor(0.6770, device='cuda:0', grad_fn=<DivBackward0>)\n",
      "ACCURACY 0.03\n",
      "EPOCH 36\n",
      "BATCH LOSS tensor(170.6795, device='cuda:0', grad_fn=<AddBackward0>) PER EXAMPLE LOSS tensor(0.6827, device='cuda:0', grad_fn=<DivBackward0>)\n",
      "BATCH LOSS tensor(163.9721, device='cuda:0', grad_fn=<AddBackward0>) PER EXAMPLE LOSS tensor(0.6559, device='cuda:0', grad_fn=<DivBackward0>)\n",
      "BATCH LOSS tensor(163.0428, device='cuda:0', grad_fn=<AddBackward0>) PER EXAMPLE LOSS tensor(0.6522, device='cuda:0', grad_fn=<DivBackward0>)\n",
      "BATCH LOSS tensor(164.5523, device='cuda:0', grad_fn=<AddBackward0>) PER EXAMPLE LOSS tensor(0.6582, device='cuda:0', grad_fn=<DivBackward0>)\n",
      "EPOCH LOSS tensor(0.6622, device='cuda:0', grad_fn=<DivBackward0>)\n",
      "ACCURACY 0.07\n",
      "EPOCH 37\n",
      "BATCH LOSS tensor(167.8203, device='cuda:0', grad_fn=<AddBackward0>) PER EXAMPLE LOSS tensor(0.6713, device='cuda:0', grad_fn=<DivBackward0>)\n",
      "BATCH LOSS tensor(162.1384, device='cuda:0', grad_fn=<AddBackward0>) PER EXAMPLE LOSS tensor(0.6486, device='cuda:0', grad_fn=<DivBackward0>)\n",
      "BATCH LOSS tensor(162.2435, device='cuda:0', grad_fn=<AddBackward0>) PER EXAMPLE LOSS tensor(0.6490, device='cuda:0', grad_fn=<DivBackward0>)\n",
      "BATCH LOSS tensor(164.1696, device='cuda:0', grad_fn=<AddBackward0>) PER EXAMPLE LOSS tensor(0.6567, device='cuda:0', grad_fn=<DivBackward0>)\n",
      "EPOCH LOSS tensor(0.6564, device='cuda:0', grad_fn=<DivBackward0>)\n",
      "ACCURACY 0.06\n",
      "EPOCH 38\n",
      "BATCH LOSS tensor(167.8638, device='cuda:0', grad_fn=<AddBackward0>) PER EXAMPLE LOSS tensor(0.6715, device='cuda:0', grad_fn=<DivBackward0>)\n",
      "BATCH LOSS tensor(160.6995, device='cuda:0', grad_fn=<AddBackward0>) PER EXAMPLE LOSS tensor(0.6428, device='cuda:0', grad_fn=<DivBackward0>)\n",
      "BATCH LOSS tensor(158.2528, device='cuda:0', grad_fn=<AddBackward0>) PER EXAMPLE LOSS tensor(0.6330, device='cuda:0', grad_fn=<DivBackward0>)\n",
      "BATCH LOSS tensor(157.6502, device='cuda:0', grad_fn=<AddBackward0>) PER EXAMPLE LOSS tensor(0.6306, device='cuda:0', grad_fn=<DivBackward0>)\n",
      "EPOCH LOSS tensor(0.6445, device='cuda:0', grad_fn=<DivBackward0>)\n",
      "ACCURACY 0.06\n",
      "EPOCH 39\n",
      "BATCH LOSS tensor(161.9137, device='cuda:0', grad_fn=<AddBackward0>) PER EXAMPLE LOSS tensor(0.6477, device='cuda:0', grad_fn=<DivBackward0>)\n",
      "BATCH LOSS tensor(155.8758, device='cuda:0', grad_fn=<AddBackward0>) PER EXAMPLE LOSS tensor(0.6235, device='cuda:0', grad_fn=<DivBackward0>)\n",
      "BATCH LOSS tensor(156.3990, device='cuda:0', grad_fn=<AddBackward0>) PER EXAMPLE LOSS tensor(0.6256, device='cuda:0', grad_fn=<DivBackward0>)\n",
      "BATCH LOSS tensor(156.0160, device='cuda:0', grad_fn=<AddBackward0>) PER EXAMPLE LOSS tensor(0.6241, device='cuda:0', grad_fn=<DivBackward0>)\n",
      "EPOCH LOSS tensor(0.6302, device='cuda:0', grad_fn=<DivBackward0>)\n",
      "ACCURACY 0.08\n",
      "EPOCH 40\n",
      "BATCH LOSS tensor(158.7057, device='cuda:0', grad_fn=<AddBackward0>) PER EXAMPLE LOSS tensor(0.6348, device='cuda:0', grad_fn=<DivBackward0>)\n",
      "BATCH LOSS tensor(151.7142, device='cuda:0', grad_fn=<AddBackward0>) PER EXAMPLE LOSS tensor(0.6069, device='cuda:0', grad_fn=<DivBackward0>)\n",
      "BATCH LOSS tensor(152.1585, device='cuda:0', grad_fn=<AddBackward0>) PER EXAMPLE LOSS tensor(0.6086, device='cuda:0', grad_fn=<DivBackward0>)\n",
      "BATCH LOSS tensor(153.0181, device='cuda:0', grad_fn=<AddBackward0>) PER EXAMPLE LOSS tensor(0.6121, device='cuda:0', grad_fn=<DivBackward0>)\n",
      "EPOCH LOSS tensor(0.6156, device='cuda:0', grad_fn=<DivBackward0>)\n",
      "ACCURACY 0.08\n",
      "EPOCH 41\n",
      "BATCH LOSS tensor(156.4770, device='cuda:0', grad_fn=<AddBackward0>) PER EXAMPLE LOSS tensor(0.6259, device='cuda:0', grad_fn=<DivBackward0>)\n",
      "BATCH LOSS tensor(150.4899, device='cuda:0', grad_fn=<AddBackward0>) PER EXAMPLE LOSS tensor(0.6020, device='cuda:0', grad_fn=<DivBackward0>)\n",
      "BATCH LOSS tensor(150.5884, device='cuda:0', grad_fn=<AddBackward0>) PER EXAMPLE LOSS tensor(0.6024, device='cuda:0', grad_fn=<DivBackward0>)\n",
      "BATCH LOSS tensor(153.9864, device='cuda:0', grad_fn=<AddBackward0>) PER EXAMPLE LOSS tensor(0.6159, device='cuda:0', grad_fn=<DivBackward0>)\n",
      "EPOCH LOSS tensor(0.6115, device='cuda:0', grad_fn=<DivBackward0>)\n",
      "ACCURACY 0.08\n",
      "EPOCH 42\n",
      "BATCH LOSS tensor(159.0863, device='cuda:0', grad_fn=<AddBackward0>) PER EXAMPLE LOSS tensor(0.6363, device='cuda:0', grad_fn=<DivBackward0>)\n",
      "BATCH LOSS tensor(151.3505, device='cuda:0', grad_fn=<AddBackward0>) PER EXAMPLE LOSS tensor(0.6054, device='cuda:0', grad_fn=<DivBackward0>)\n",
      "BATCH LOSS tensor(147.3218, device='cuda:0', grad_fn=<AddBackward0>) PER EXAMPLE LOSS tensor(0.5893, device='cuda:0', grad_fn=<DivBackward0>)\n",
      "BATCH LOSS tensor(149.5886, device='cuda:0', grad_fn=<AddBackward0>) PER EXAMPLE LOSS tensor(0.5984, device='cuda:0', grad_fn=<DivBackward0>)\n",
      "EPOCH LOSS tensor(0.6073, device='cuda:0', grad_fn=<DivBackward0>)\n",
      "ACCURACY 0.1\n",
      "EPOCH 43\n",
      "BATCH LOSS tensor(151.5907, device='cuda:0', grad_fn=<AddBackward0>) PER EXAMPLE LOSS tensor(0.6064, device='cuda:0', grad_fn=<DivBackward0>)\n",
      "BATCH LOSS tensor(145.4194, device='cuda:0', grad_fn=<AddBackward0>) PER EXAMPLE LOSS tensor(0.5817, device='cuda:0', grad_fn=<DivBackward0>)\n",
      "BATCH LOSS tensor(144.2484, device='cuda:0', grad_fn=<AddBackward0>) PER EXAMPLE LOSS tensor(0.5770, device='cuda:0', grad_fn=<DivBackward0>)\n",
      "BATCH LOSS tensor(148.0980, device='cuda:0', grad_fn=<AddBackward0>) PER EXAMPLE LOSS tensor(0.5924, device='cuda:0', grad_fn=<DivBackward0>)\n",
      "EPOCH LOSS tensor(0.5894, device='cuda:0', grad_fn=<DivBackward0>)\n",
      "ACCURACY 0.11\n",
      "EPOCH 44\n",
      "BATCH LOSS tensor(151.7832, device='cuda:0', grad_fn=<AddBackward0>) PER EXAMPLE LOSS tensor(0.6071, device='cuda:0', grad_fn=<DivBackward0>)\n",
      "BATCH LOSS tensor(144.3216, device='cuda:0', grad_fn=<AddBackward0>) PER EXAMPLE LOSS tensor(0.5773, device='cuda:0', grad_fn=<DivBackward0>)\n",
      "BATCH LOSS tensor(143.0837, device='cuda:0', grad_fn=<AddBackward0>) PER EXAMPLE LOSS tensor(0.5723, device='cuda:0', grad_fn=<DivBackward0>)\n",
      "BATCH LOSS tensor(144.4570, device='cuda:0', grad_fn=<AddBackward0>) PER EXAMPLE LOSS tensor(0.5778, device='cuda:0', grad_fn=<DivBackward0>)\n",
      "EPOCH LOSS tensor(0.5836, device='cuda:0', grad_fn=<DivBackward0>)\n",
      "ACCURACY 0.1\n",
      "EPOCH 45\n",
      "BATCH LOSS tensor(146.1244, device='cuda:0', grad_fn=<AddBackward0>) PER EXAMPLE LOSS tensor(0.5845, device='cuda:0', grad_fn=<DivBackward0>)\n",
      "BATCH LOSS tensor(140.9893, device='cuda:0', grad_fn=<AddBackward0>) PER EXAMPLE LOSS tensor(0.5640, device='cuda:0', grad_fn=<DivBackward0>)\n",
      "BATCH LOSS tensor(139.9598, device='cuda:0', grad_fn=<AddBackward0>) PER EXAMPLE LOSS tensor(0.5598, device='cuda:0', grad_fn=<DivBackward0>)\n",
      "BATCH LOSS tensor(141.3842, device='cuda:0', grad_fn=<AddBackward0>) PER EXAMPLE LOSS tensor(0.5655, device='cuda:0', grad_fn=<DivBackward0>)\n",
      "EPOCH LOSS tensor(0.5685, device='cuda:0', grad_fn=<DivBackward0>)\n",
      "ACCURACY 0.13\n",
      "EPOCH 46\n",
      "BATCH LOSS tensor(144.7540, device='cuda:0', grad_fn=<AddBackward0>) PER EXAMPLE LOSS tensor(0.5790, device='cuda:0', grad_fn=<DivBackward0>)\n",
      "BATCH LOSS tensor(139.1931, device='cuda:0', grad_fn=<AddBackward0>) PER EXAMPLE LOSS tensor(0.5568, device='cuda:0', grad_fn=<DivBackward0>)\n",
      "BATCH LOSS tensor(138.8429, device='cuda:0', grad_fn=<AddBackward0>) PER EXAMPLE LOSS tensor(0.5554, device='cuda:0', grad_fn=<DivBackward0>)\n",
      "BATCH LOSS tensor(139.4499, device='cuda:0', grad_fn=<AddBackward0>) PER EXAMPLE LOSS tensor(0.5578, device='cuda:0', grad_fn=<DivBackward0>)\n",
      "EPOCH LOSS tensor(0.5622, device='cuda:0', grad_fn=<DivBackward0>)\n",
      "ACCURACY 0.15\n",
      "EPOCH 47\n",
      "BATCH LOSS tensor(143.7813, device='cuda:0', grad_fn=<AddBackward0>) PER EXAMPLE LOSS tensor(0.5751, device='cuda:0', grad_fn=<DivBackward0>)\n",
      "BATCH LOSS tensor(138.3973, device='cuda:0', grad_fn=<AddBackward0>) PER EXAMPLE LOSS tensor(0.5536, device='cuda:0', grad_fn=<DivBackward0>)\n",
      "BATCH LOSS tensor(136.8389, device='cuda:0', grad_fn=<AddBackward0>) PER EXAMPLE LOSS tensor(0.5474, device='cuda:0', grad_fn=<DivBackward0>)\n",
      "BATCH LOSS tensor(137.1195, device='cuda:0', grad_fn=<AddBackward0>) PER EXAMPLE LOSS tensor(0.5485, device='cuda:0', grad_fn=<DivBackward0>)\n",
      "EPOCH LOSS tensor(0.5561, device='cuda:0', grad_fn=<DivBackward0>)\n",
      "ACCURACY 0.16\n",
      "EPOCH 48\n",
      "BATCH LOSS tensor(140.6411, device='cuda:0', grad_fn=<AddBackward0>) PER EXAMPLE LOSS tensor(0.5626, device='cuda:0', grad_fn=<DivBackward0>)\n",
      "BATCH LOSS tensor(134.1301, device='cuda:0', grad_fn=<AddBackward0>) PER EXAMPLE LOSS tensor(0.5365, device='cuda:0', grad_fn=<DivBackward0>)\n",
      "BATCH LOSS tensor(133.2994, device='cuda:0', grad_fn=<AddBackward0>) PER EXAMPLE LOSS tensor(0.5332, device='cuda:0', grad_fn=<DivBackward0>)\n",
      "BATCH LOSS tensor(133.6759, device='cuda:0', grad_fn=<AddBackward0>) PER EXAMPLE LOSS tensor(0.5347, device='cuda:0', grad_fn=<DivBackward0>)\n",
      "EPOCH LOSS tensor(0.5417, device='cuda:0', grad_fn=<DivBackward0>)\n",
      "ACCURACY 0.2\n",
      "EPOCH 49\n",
      "BATCH LOSS tensor(138.0643, device='cuda:0', grad_fn=<AddBackward0>) PER EXAMPLE LOSS tensor(0.5523, device='cuda:0', grad_fn=<DivBackward0>)\n",
      "BATCH LOSS tensor(132.1998, device='cuda:0', grad_fn=<AddBackward0>) PER EXAMPLE LOSS tensor(0.5288, device='cuda:0', grad_fn=<DivBackward0>)\n",
      "BATCH LOSS tensor(131.4966, device='cuda:0', grad_fn=<AddBackward0>) PER EXAMPLE LOSS tensor(0.5260, device='cuda:0', grad_fn=<DivBackward0>)\n",
      "BATCH LOSS tensor(132.8708, device='cuda:0', grad_fn=<AddBackward0>) PER EXAMPLE LOSS tensor(0.5315, device='cuda:0', grad_fn=<DivBackward0>)\n",
      "EPOCH LOSS tensor(0.5346, device='cuda:0', grad_fn=<DivBackward0>)\n",
      "ACCURACY 0.21\n",
      "EPOCH 50\n",
      "BATCH LOSS tensor(138.4696, device='cuda:0', grad_fn=<AddBackward0>) PER EXAMPLE LOSS tensor(0.5539, device='cuda:0', grad_fn=<DivBackward0>)\n",
      "BATCH LOSS tensor(135.3080, device='cuda:0', grad_fn=<AddBackward0>) PER EXAMPLE LOSS tensor(0.5412, device='cuda:0', grad_fn=<DivBackward0>)\n",
      "BATCH LOSS tensor(142.4772, device='cuda:0', grad_fn=<AddBackward0>) PER EXAMPLE LOSS tensor(0.5699, device='cuda:0', grad_fn=<DivBackward0>)\n",
      "BATCH LOSS tensor(142.9257, device='cuda:0', grad_fn=<AddBackward0>) PER EXAMPLE LOSS tensor(0.5717, device='cuda:0', grad_fn=<DivBackward0>)\n",
      "EPOCH LOSS tensor(0.5592, device='cuda:0', grad_fn=<DivBackward0>)\n",
      "ACCURACY 0.18\n",
      "EPOCH 51\n",
      "BATCH LOSS tensor(143.0379, device='cuda:0', grad_fn=<AddBackward0>) PER EXAMPLE LOSS tensor(0.5722, device='cuda:0', grad_fn=<DivBackward0>)\n",
      "BATCH LOSS tensor(129.4645, device='cuda:0', grad_fn=<AddBackward0>) PER EXAMPLE LOSS tensor(0.5179, device='cuda:0', grad_fn=<DivBackward0>)\n",
      "BATCH LOSS tensor(130.6195, device='cuda:0', grad_fn=<AddBackward0>) PER EXAMPLE LOSS tensor(0.5225, device='cuda:0', grad_fn=<DivBackward0>)\n",
      "BATCH LOSS tensor(136.9930, device='cuda:0', grad_fn=<AddBackward0>) PER EXAMPLE LOSS tensor(0.5480, device='cuda:0', grad_fn=<DivBackward0>)\n",
      "EPOCH LOSS tensor(0.5401, device='cuda:0', grad_fn=<DivBackward0>)\n",
      "ACCURACY 0.21\n",
      "EPOCH 52\n",
      "BATCH LOSS tensor(137.7240, device='cuda:0', grad_fn=<AddBackward0>) PER EXAMPLE LOSS tensor(0.5509, device='cuda:0', grad_fn=<DivBackward0>)\n",
      "BATCH LOSS tensor(127.8966, device='cuda:0', grad_fn=<AddBackward0>) PER EXAMPLE LOSS tensor(0.5116, device='cuda:0', grad_fn=<DivBackward0>)\n",
      "BATCH LOSS tensor(129.8679, device='cuda:0', grad_fn=<AddBackward0>) PER EXAMPLE LOSS tensor(0.5195, device='cuda:0', grad_fn=<DivBackward0>)\n",
      "BATCH LOSS tensor(132.8150, device='cuda:0', grad_fn=<AddBackward0>) PER EXAMPLE LOSS tensor(0.5313, device='cuda:0', grad_fn=<DivBackward0>)\n",
      "EPOCH LOSS tensor(0.5283, device='cuda:0', grad_fn=<DivBackward0>)\n",
      "ACCURACY 0.19\n",
      "EPOCH 53\n",
      "BATCH LOSS tensor(134.0874, device='cuda:0', grad_fn=<AddBackward0>) PER EXAMPLE LOSS tensor(0.5363, device='cuda:0', grad_fn=<DivBackward0>)\n",
      "BATCH LOSS tensor(125.4479, device='cuda:0', grad_fn=<AddBackward0>) PER EXAMPLE LOSS tensor(0.5018, device='cuda:0', grad_fn=<DivBackward0>)\n",
      "BATCH LOSS tensor(128.1452, device='cuda:0', grad_fn=<AddBackward0>) PER EXAMPLE LOSS tensor(0.5126, device='cuda:0', grad_fn=<DivBackward0>)\n",
      "BATCH LOSS tensor(129.5103, device='cuda:0', grad_fn=<AddBackward0>) PER EXAMPLE LOSS tensor(0.5180, device='cuda:0', grad_fn=<DivBackward0>)\n",
      "EPOCH LOSS tensor(0.5172, device='cuda:0', grad_fn=<DivBackward0>)\n",
      "ACCURACY 0.21\n",
      "EPOCH 54\n",
      "BATCH LOSS tensor(130.9343, device='cuda:0', grad_fn=<AddBackward0>) PER EXAMPLE LOSS tensor(0.5237, device='cuda:0', grad_fn=<DivBackward0>)\n",
      "BATCH LOSS tensor(125.8233, device='cuda:0', grad_fn=<AddBackward0>) PER EXAMPLE LOSS tensor(0.5033, device='cuda:0', grad_fn=<DivBackward0>)\n",
      "BATCH LOSS tensor(127.9104, device='cuda:0', grad_fn=<AddBackward0>) PER EXAMPLE LOSS tensor(0.5116, device='cuda:0', grad_fn=<DivBackward0>)\n",
      "BATCH LOSS tensor(126.3037, device='cuda:0', grad_fn=<AddBackward0>) PER EXAMPLE LOSS tensor(0.5052, device='cuda:0', grad_fn=<DivBackward0>)\n",
      "EPOCH LOSS tensor(0.5110, device='cuda:0', grad_fn=<DivBackward0>)\n",
      "ACCURACY 0.22\n",
      "EPOCH 55\n",
      "BATCH LOSS tensor(128.5798, device='cuda:0', grad_fn=<AddBackward0>) PER EXAMPLE LOSS tensor(0.5143, device='cuda:0', grad_fn=<DivBackward0>)\n",
      "BATCH LOSS tensor(124.3661, device='cuda:0', grad_fn=<AddBackward0>) PER EXAMPLE LOSS tensor(0.4975, device='cuda:0', grad_fn=<DivBackward0>)\n",
      "BATCH LOSS tensor(123.6936, device='cuda:0', grad_fn=<AddBackward0>) PER EXAMPLE LOSS tensor(0.4948, device='cuda:0', grad_fn=<DivBackward0>)\n",
      "BATCH LOSS tensor(123.1982, device='cuda:0', grad_fn=<AddBackward0>) PER EXAMPLE LOSS tensor(0.4928, device='cuda:0', grad_fn=<DivBackward0>)\n",
      "EPOCH LOSS tensor(0.4998, device='cuda:0', grad_fn=<DivBackward0>)\n",
      "ACCURACY 0.21\n",
      "EPOCH 56\n",
      "BATCH LOSS tensor(128.8027, device='cuda:0', grad_fn=<AddBackward0>) PER EXAMPLE LOSS tensor(0.5152, device='cuda:0', grad_fn=<DivBackward0>)\n",
      "BATCH LOSS tensor(122.9241, device='cuda:0', grad_fn=<AddBackward0>) PER EXAMPLE LOSS tensor(0.4917, device='cuda:0', grad_fn=<DivBackward0>)\n",
      "BATCH LOSS tensor(121.5854, device='cuda:0', grad_fn=<AddBackward0>) PER EXAMPLE LOSS tensor(0.4863, device='cuda:0', grad_fn=<DivBackward0>)\n",
      "BATCH LOSS tensor(121.8084, device='cuda:0', grad_fn=<AddBackward0>) PER EXAMPLE LOSS tensor(0.4872, device='cuda:0', grad_fn=<DivBackward0>)\n",
      "EPOCH LOSS tensor(0.4951, device='cuda:0', grad_fn=<DivBackward0>)\n",
      "ACCURACY 0.23\n",
      "EPOCH 57\n",
      "BATCH LOSS tensor(126.1880, device='cuda:0', grad_fn=<AddBackward0>) PER EXAMPLE LOSS tensor(0.5048, device='cuda:0', grad_fn=<DivBackward0>)\n",
      "BATCH LOSS tensor(120.3267, device='cuda:0', grad_fn=<AddBackward0>) PER EXAMPLE LOSS tensor(0.4813, device='cuda:0', grad_fn=<DivBackward0>)\n",
      "BATCH LOSS tensor(119.7389, device='cuda:0', grad_fn=<AddBackward0>) PER EXAMPLE LOSS tensor(0.4790, device='cuda:0', grad_fn=<DivBackward0>)\n",
      "BATCH LOSS tensor(121.1207, device='cuda:0', grad_fn=<AddBackward0>) PER EXAMPLE LOSS tensor(0.4845, device='cuda:0', grad_fn=<DivBackward0>)\n",
      "EPOCH LOSS tensor(0.4874, device='cuda:0', grad_fn=<DivBackward0>)\n",
      "ACCURACY 0.2\n",
      "EPOCH 58\n",
      "BATCH LOSS tensor(126.7784, device='cuda:0', grad_fn=<AddBackward0>) PER EXAMPLE LOSS tensor(0.5071, device='cuda:0', grad_fn=<DivBackward0>)\n",
      "BATCH LOSS tensor(119.6501, device='cuda:0', grad_fn=<AddBackward0>) PER EXAMPLE LOSS tensor(0.4786, device='cuda:0', grad_fn=<DivBackward0>)\n",
      "BATCH LOSS tensor(118.6543, device='cuda:0', grad_fn=<AddBackward0>) PER EXAMPLE LOSS tensor(0.4746, device='cuda:0', grad_fn=<DivBackward0>)\n",
      "BATCH LOSS tensor(119.7041, device='cuda:0', grad_fn=<AddBackward0>) PER EXAMPLE LOSS tensor(0.4788, device='cuda:0', grad_fn=<DivBackward0>)\n",
      "EPOCH LOSS tensor(0.4848, device='cuda:0', grad_fn=<DivBackward0>)\n",
      "ACCURACY 0.22\n",
      "EPOCH 59\n",
      "BATCH LOSS tensor(124.1406, device='cuda:0', grad_fn=<AddBackward0>) PER EXAMPLE LOSS tensor(0.4966, device='cuda:0', grad_fn=<DivBackward0>)\n",
      "BATCH LOSS tensor(118.1270, device='cuda:0', grad_fn=<AddBackward0>) PER EXAMPLE LOSS tensor(0.4725, device='cuda:0', grad_fn=<DivBackward0>)\n",
      "BATCH LOSS tensor(117.8665, device='cuda:0', grad_fn=<AddBackward0>) PER EXAMPLE LOSS tensor(0.4715, device='cuda:0', grad_fn=<DivBackward0>)\n",
      "BATCH LOSS tensor(119.4069, device='cuda:0', grad_fn=<AddBackward0>) PER EXAMPLE LOSS tensor(0.4776, device='cuda:0', grad_fn=<DivBackward0>)\n",
      "EPOCH LOSS tensor(0.4795, device='cuda:0', grad_fn=<DivBackward0>)\n",
      "ACCURACY 0.21\n",
      "EPOCH 60\n",
      "BATCH LOSS tensor(124.9574, device='cuda:0', grad_fn=<AddBackward0>) PER EXAMPLE LOSS tensor(0.4998, device='cuda:0', grad_fn=<DivBackward0>)\n",
      "BATCH LOSS tensor(118.5175, device='cuda:0', grad_fn=<AddBackward0>) PER EXAMPLE LOSS tensor(0.4741, device='cuda:0', grad_fn=<DivBackward0>)\n",
      "BATCH LOSS tensor(117.7659, device='cuda:0', grad_fn=<AddBackward0>) PER EXAMPLE LOSS tensor(0.4711, device='cuda:0', grad_fn=<DivBackward0>)\n",
      "BATCH LOSS tensor(119.2278, device='cuda:0', grad_fn=<AddBackward0>) PER EXAMPLE LOSS tensor(0.4769, device='cuda:0', grad_fn=<DivBackward0>)\n",
      "EPOCH LOSS tensor(0.4805, device='cuda:0', grad_fn=<DivBackward0>)\n",
      "ACCURACY 0.22\n",
      "EPOCH 61\n",
      "BATCH LOSS tensor(123.9273, device='cuda:0', grad_fn=<AddBackward0>) PER EXAMPLE LOSS tensor(0.4957, device='cuda:0', grad_fn=<DivBackward0>)\n",
      "BATCH LOSS tensor(117.6569, device='cuda:0', grad_fn=<AddBackward0>) PER EXAMPLE LOSS tensor(0.4706, device='cuda:0', grad_fn=<DivBackward0>)\n",
      "BATCH LOSS tensor(116.4447, device='cuda:0', grad_fn=<AddBackward0>) PER EXAMPLE LOSS tensor(0.4658, device='cuda:0', grad_fn=<DivBackward0>)\n",
      "BATCH LOSS tensor(116.8088, device='cuda:0', grad_fn=<AddBackward0>) PER EXAMPLE LOSS tensor(0.4672, device='cuda:0', grad_fn=<DivBackward0>)\n",
      "EPOCH LOSS tensor(0.4748, device='cuda:0', grad_fn=<DivBackward0>)\n",
      "ACCURACY 0.21\n",
      "EPOCH 62\n",
      "BATCH LOSS tensor(120.8680, device='cuda:0', grad_fn=<AddBackward0>) PER EXAMPLE LOSS tensor(0.4835, device='cuda:0', grad_fn=<DivBackward0>)\n",
      "BATCH LOSS tensor(114.3804, device='cuda:0', grad_fn=<AddBackward0>) PER EXAMPLE LOSS tensor(0.4575, device='cuda:0', grad_fn=<DivBackward0>)\n",
      "BATCH LOSS tensor(114.7727, device='cuda:0', grad_fn=<AddBackward0>) PER EXAMPLE LOSS tensor(0.4591, device='cuda:0', grad_fn=<DivBackward0>)\n",
      "BATCH LOSS tensor(116.7933, device='cuda:0', grad_fn=<AddBackward0>) PER EXAMPLE LOSS tensor(0.4672, device='cuda:0', grad_fn=<DivBackward0>)\n",
      "EPOCH LOSS tensor(0.4668, device='cuda:0', grad_fn=<DivBackward0>)\n",
      "ACCURACY 0.21\n",
      "EPOCH 63\n",
      "BATCH LOSS tensor(122.7917, device='cuda:0', grad_fn=<AddBackward0>) PER EXAMPLE LOSS tensor(0.4912, device='cuda:0', grad_fn=<DivBackward0>)\n",
      "BATCH LOSS tensor(117.5038, device='cuda:0', grad_fn=<AddBackward0>) PER EXAMPLE LOSS tensor(0.4700, device='cuda:0', grad_fn=<DivBackward0>)\n",
      "BATCH LOSS tensor(118.3356, device='cuda:0', grad_fn=<AddBackward0>) PER EXAMPLE LOSS tensor(0.4733, device='cuda:0', grad_fn=<DivBackward0>)\n",
      "BATCH LOSS tensor(116.8747, device='cuda:0', grad_fn=<AddBackward0>) PER EXAMPLE LOSS tensor(0.4675, device='cuda:0', grad_fn=<DivBackward0>)\n",
      "EPOCH LOSS tensor(0.4755, device='cuda:0', grad_fn=<DivBackward0>)\n",
      "ACCURACY 0.19\n",
      "EPOCH 64\n",
      "BATCH LOSS tensor(119.3992, device='cuda:0', grad_fn=<AddBackward0>) PER EXAMPLE LOSS tensor(0.4776, device='cuda:0', grad_fn=<DivBackward0>)\n",
      "BATCH LOSS tensor(112.3153, device='cuda:0', grad_fn=<AddBackward0>) PER EXAMPLE LOSS tensor(0.4493, device='cuda:0', grad_fn=<DivBackward0>)\n",
      "BATCH LOSS tensor(112.4158, device='cuda:0', grad_fn=<AddBackward0>) PER EXAMPLE LOSS tensor(0.4497, device='cuda:0', grad_fn=<DivBackward0>)\n",
      "BATCH LOSS tensor(113.9218, device='cuda:0', grad_fn=<AddBackward0>) PER EXAMPLE LOSS tensor(0.4557, device='cuda:0', grad_fn=<DivBackward0>)\n",
      "EPOCH LOSS tensor(0.4581, device='cuda:0', grad_fn=<DivBackward0>)\n",
      "ACCURACY 0.22\n",
      "EPOCH 65\n",
      "BATCH LOSS tensor(118.8784, device='cuda:0', grad_fn=<AddBackward0>) PER EXAMPLE LOSS tensor(0.4755, device='cuda:0', grad_fn=<DivBackward0>)\n",
      "BATCH LOSS tensor(112.4088, device='cuda:0', grad_fn=<AddBackward0>) PER EXAMPLE LOSS tensor(0.4496, device='cuda:0', grad_fn=<DivBackward0>)\n",
      "BATCH LOSS tensor(111.5255, device='cuda:0', grad_fn=<AddBackward0>) PER EXAMPLE LOSS tensor(0.4461, device='cuda:0', grad_fn=<DivBackward0>)\n",
      "BATCH LOSS tensor(112.2661, device='cuda:0', grad_fn=<AddBackward0>) PER EXAMPLE LOSS tensor(0.4491, device='cuda:0', grad_fn=<DivBackward0>)\n",
      "EPOCH LOSS tensor(0.4551, device='cuda:0', grad_fn=<DivBackward0>)\n",
      "ACCURACY 0.22\n",
      "EPOCH 66\n",
      "BATCH LOSS tensor(117.1263, device='cuda:0', grad_fn=<AddBackward0>) PER EXAMPLE LOSS tensor(0.4685, device='cuda:0', grad_fn=<DivBackward0>)\n",
      "BATCH LOSS tensor(110.8807, device='cuda:0', grad_fn=<AddBackward0>) PER EXAMPLE LOSS tensor(0.4435, device='cuda:0', grad_fn=<DivBackward0>)\n",
      "BATCH LOSS tensor(110.8726, device='cuda:0', grad_fn=<AddBackward0>) PER EXAMPLE LOSS tensor(0.4435, device='cuda:0', grad_fn=<DivBackward0>)\n",
      "BATCH LOSS tensor(111.8741, device='cuda:0', grad_fn=<AddBackward0>) PER EXAMPLE LOSS tensor(0.4475, device='cuda:0', grad_fn=<DivBackward0>)\n",
      "EPOCH LOSS tensor(0.4508, device='cuda:0', grad_fn=<DivBackward0>)\n",
      "ACCURACY 0.25\n",
      "EPOCH 67\n",
      "BATCH LOSS tensor(117.0055, device='cuda:0', grad_fn=<AddBackward0>) PER EXAMPLE LOSS tensor(0.4680, device='cuda:0', grad_fn=<DivBackward0>)\n",
      "BATCH LOSS tensor(111.6253, device='cuda:0', grad_fn=<AddBackward0>) PER EXAMPLE LOSS tensor(0.4465, device='cuda:0', grad_fn=<DivBackward0>)\n",
      "BATCH LOSS tensor(113.4780, device='cuda:0', grad_fn=<AddBackward0>) PER EXAMPLE LOSS tensor(0.4539, device='cuda:0', grad_fn=<DivBackward0>)\n",
      "BATCH LOSS tensor(114.0243, device='cuda:0', grad_fn=<AddBackward0>) PER EXAMPLE LOSS tensor(0.4561, device='cuda:0', grad_fn=<DivBackward0>)\n",
      "EPOCH LOSS tensor(0.4561, device='cuda:0', grad_fn=<DivBackward0>)\n",
      "ACCURACY 0.25\n",
      "EPOCH 68\n",
      "BATCH LOSS tensor(117.3612, device='cuda:0', grad_fn=<AddBackward0>) PER EXAMPLE LOSS tensor(0.4694, device='cuda:0', grad_fn=<DivBackward0>)\n",
      "BATCH LOSS tensor(108.9953, device='cuda:0', grad_fn=<AddBackward0>) PER EXAMPLE LOSS tensor(0.4360, device='cuda:0', grad_fn=<DivBackward0>)\n",
      "BATCH LOSS tensor(108.0211, device='cuda:0', grad_fn=<AddBackward0>) PER EXAMPLE LOSS tensor(0.4321, device='cuda:0', grad_fn=<DivBackward0>)\n",
      "BATCH LOSS tensor(108.8981, device='cuda:0', grad_fn=<AddBackward0>) PER EXAMPLE LOSS tensor(0.4356, device='cuda:0', grad_fn=<DivBackward0>)\n",
      "EPOCH LOSS tensor(0.4433, device='cuda:0', grad_fn=<DivBackward0>)\n",
      "ACCURACY 0.25\n",
      "EPOCH 69\n",
      "BATCH LOSS tensor(114.6294, device='cuda:0', grad_fn=<AddBackward0>) PER EXAMPLE LOSS tensor(0.4585, device='cuda:0', grad_fn=<DivBackward0>)\n",
      "BATCH LOSS tensor(109.1032, device='cuda:0', grad_fn=<AddBackward0>) PER EXAMPLE LOSS tensor(0.4364, device='cuda:0', grad_fn=<DivBackward0>)\n",
      "BATCH LOSS tensor(108.3784, device='cuda:0', grad_fn=<AddBackward0>) PER EXAMPLE LOSS tensor(0.4335, device='cuda:0', grad_fn=<DivBackward0>)\n",
      "BATCH LOSS tensor(109.1549, device='cuda:0', grad_fn=<AddBackward0>) PER EXAMPLE LOSS tensor(0.4366, device='cuda:0', grad_fn=<DivBackward0>)\n",
      "EPOCH LOSS tensor(0.4413, device='cuda:0', grad_fn=<DivBackward0>)\n",
      "ACCURACY 0.24\n",
      "EPOCH 70\n",
      "BATCH LOSS tensor(114.2899, device='cuda:0', grad_fn=<AddBackward0>) PER EXAMPLE LOSS tensor(0.4572, device='cuda:0', grad_fn=<DivBackward0>)\n",
      "BATCH LOSS tensor(108.1574, device='cuda:0', grad_fn=<AddBackward0>) PER EXAMPLE LOSS tensor(0.4326, device='cuda:0', grad_fn=<DivBackward0>)\n",
      "BATCH LOSS tensor(108.5110, device='cuda:0', grad_fn=<AddBackward0>) PER EXAMPLE LOSS tensor(0.4340, device='cuda:0', grad_fn=<DivBackward0>)\n",
      "BATCH LOSS tensor(109.7060, device='cuda:0', grad_fn=<AddBackward0>) PER EXAMPLE LOSS tensor(0.4388, device='cuda:0', grad_fn=<DivBackward0>)\n",
      "EPOCH LOSS tensor(0.4407, device='cuda:0', grad_fn=<DivBackward0>)\n",
      "ACCURACY 0.25\n",
      "EPOCH 71\n",
      "BATCH LOSS tensor(113.6755, device='cuda:0', grad_fn=<AddBackward0>) PER EXAMPLE LOSS tensor(0.4547, device='cuda:0', grad_fn=<DivBackward0>)\n",
      "BATCH LOSS tensor(106.6782, device='cuda:0', grad_fn=<AddBackward0>) PER EXAMPLE LOSS tensor(0.4267, device='cuda:0', grad_fn=<DivBackward0>)\n",
      "BATCH LOSS tensor(106.0020, device='cuda:0', grad_fn=<AddBackward0>) PER EXAMPLE LOSS tensor(0.4240, device='cuda:0', grad_fn=<DivBackward0>)\n",
      "BATCH LOSS tensor(107.1605, device='cuda:0', grad_fn=<AddBackward0>) PER EXAMPLE LOSS tensor(0.4286, device='cuda:0', grad_fn=<DivBackward0>)\n",
      "EPOCH LOSS tensor(0.4335, device='cuda:0', grad_fn=<DivBackward0>)\n",
      "ACCURACY 0.25\n",
      "EPOCH 72\n",
      "BATCH LOSS tensor(112.5025, device='cuda:0', grad_fn=<AddBackward0>) PER EXAMPLE LOSS tensor(0.4500, device='cuda:0', grad_fn=<DivBackward0>)\n",
      "BATCH LOSS tensor(106.0474, device='cuda:0', grad_fn=<AddBackward0>) PER EXAMPLE LOSS tensor(0.4242, device='cuda:0', grad_fn=<DivBackward0>)\n",
      "BATCH LOSS tensor(104.8751, device='cuda:0', grad_fn=<AddBackward0>) PER EXAMPLE LOSS tensor(0.4195, device='cuda:0', grad_fn=<DivBackward0>)\n",
      "BATCH LOSS tensor(105.3655, device='cuda:0', grad_fn=<AddBackward0>) PER EXAMPLE LOSS tensor(0.4215, device='cuda:0', grad_fn=<DivBackward0>)\n",
      "EPOCH LOSS tensor(0.4288, device='cuda:0', grad_fn=<DivBackward0>)\n",
      "ACCURACY 0.26\n",
      "EPOCH 73\n",
      "BATCH LOSS tensor(110.3379, device='cuda:0', grad_fn=<AddBackward0>) PER EXAMPLE LOSS tensor(0.4414, device='cuda:0', grad_fn=<DivBackward0>)\n",
      "BATCH LOSS tensor(105.0331, device='cuda:0', grad_fn=<AddBackward0>) PER EXAMPLE LOSS tensor(0.4201, device='cuda:0', grad_fn=<DivBackward0>)\n",
      "BATCH LOSS tensor(107.3560, device='cuda:0', grad_fn=<AddBackward0>) PER EXAMPLE LOSS tensor(0.4294, device='cuda:0', grad_fn=<DivBackward0>)\n",
      "BATCH LOSS tensor(110.7308, device='cuda:0', grad_fn=<AddBackward0>) PER EXAMPLE LOSS tensor(0.4429, device='cuda:0', grad_fn=<DivBackward0>)\n",
      "EPOCH LOSS tensor(0.4335, device='cuda:0', grad_fn=<DivBackward0>)\n",
      "ACCURACY 0.27\n",
      "EPOCH 74\n",
      "BATCH LOSS tensor(120.6777, device='cuda:0', grad_fn=<AddBackward0>) PER EXAMPLE LOSS tensor(0.4827, device='cuda:0', grad_fn=<DivBackward0>)\n",
      "BATCH LOSS tensor(114.9770, device='cuda:0', grad_fn=<AddBackward0>) PER EXAMPLE LOSS tensor(0.4599, device='cuda:0', grad_fn=<DivBackward0>)\n",
      "BATCH LOSS tensor(115.7526, device='cuda:0', grad_fn=<AddBackward0>) PER EXAMPLE LOSS tensor(0.4630, device='cuda:0', grad_fn=<DivBackward0>)\n",
      "BATCH LOSS tensor(107.8960, device='cuda:0', grad_fn=<AddBackward0>) PER EXAMPLE LOSS tensor(0.4316, device='cuda:0', grad_fn=<DivBackward0>)\n",
      "EPOCH LOSS tensor(0.4593, device='cuda:0', grad_fn=<DivBackward0>)\n",
      "ACCURACY 0.26\n",
      "EPOCH 75\n",
      "BATCH LOSS tensor(108.8871, device='cuda:0', grad_fn=<AddBackward0>) PER EXAMPLE LOSS tensor(0.4355, device='cuda:0', grad_fn=<DivBackward0>)\n",
      "BATCH LOSS tensor(105.2879, device='cuda:0', grad_fn=<AddBackward0>) PER EXAMPLE LOSS tensor(0.4212, device='cuda:0', grad_fn=<DivBackward0>)\n",
      "BATCH LOSS tensor(107.7267, device='cuda:0', grad_fn=<AddBackward0>) PER EXAMPLE LOSS tensor(0.4309, device='cuda:0', grad_fn=<DivBackward0>)\n",
      "BATCH LOSS tensor(108.4268, device='cuda:0', grad_fn=<AddBackward0>) PER EXAMPLE LOSS tensor(0.4337, device='cuda:0', grad_fn=<DivBackward0>)\n",
      "EPOCH LOSS tensor(0.4303, device='cuda:0', grad_fn=<DivBackward0>)\n",
      "ACCURACY 0.28\n",
      "EPOCH 76\n",
      "BATCH LOSS tensor(109.0165, device='cuda:0', grad_fn=<AddBackward0>) PER EXAMPLE LOSS tensor(0.4361, device='cuda:0', grad_fn=<DivBackward0>)\n",
      "BATCH LOSS tensor(102.5744, device='cuda:0', grad_fn=<AddBackward0>) PER EXAMPLE LOSS tensor(0.4103, device='cuda:0', grad_fn=<DivBackward0>)\n",
      "BATCH LOSS tensor(106.5323, device='cuda:0', grad_fn=<AddBackward0>) PER EXAMPLE LOSS tensor(0.4261, device='cuda:0', grad_fn=<DivBackward0>)\n",
      "BATCH LOSS tensor(105.8766, device='cuda:0', grad_fn=<AddBackward0>) PER EXAMPLE LOSS tensor(0.4235, device='cuda:0', grad_fn=<DivBackward0>)\n",
      "EPOCH LOSS tensor(0.4240, device='cuda:0', grad_fn=<DivBackward0>)\n",
      "ACCURACY 0.26\n",
      "EPOCH 77\n",
      "BATCH LOSS tensor(107.8444, device='cuda:0', grad_fn=<AddBackward0>) PER EXAMPLE LOSS tensor(0.4314, device='cuda:0', grad_fn=<DivBackward0>)\n",
      "BATCH LOSS tensor(101.8233, device='cuda:0', grad_fn=<AddBackward0>) PER EXAMPLE LOSS tensor(0.4073, device='cuda:0', grad_fn=<DivBackward0>)\n",
      "BATCH LOSS tensor(103.2876, device='cuda:0', grad_fn=<AddBackward0>) PER EXAMPLE LOSS tensor(0.4132, device='cuda:0', grad_fn=<DivBackward0>)\n",
      "BATCH LOSS tensor(103.9662, device='cuda:0', grad_fn=<AddBackward0>) PER EXAMPLE LOSS tensor(0.4159, device='cuda:0', grad_fn=<DivBackward0>)\n",
      "EPOCH LOSS tensor(0.4169, device='cuda:0', grad_fn=<DivBackward0>)\n",
      "ACCURACY 0.27\n",
      "EPOCH 78\n",
      "BATCH LOSS tensor(106.7765, device='cuda:0', grad_fn=<AddBackward0>) PER EXAMPLE LOSS tensor(0.4271, device='cuda:0', grad_fn=<DivBackward0>)\n",
      "BATCH LOSS tensor(100.5823, device='cuda:0', grad_fn=<AddBackward0>) PER EXAMPLE LOSS tensor(0.4023, device='cuda:0', grad_fn=<DivBackward0>)\n",
      "BATCH LOSS tensor(102.4511, device='cuda:0', grad_fn=<AddBackward0>) PER EXAMPLE LOSS tensor(0.4098, device='cuda:0', grad_fn=<DivBackward0>)\n",
      "BATCH LOSS tensor(102.6999, device='cuda:0', grad_fn=<AddBackward0>) PER EXAMPLE LOSS tensor(0.4108, device='cuda:0', grad_fn=<DivBackward0>)\n",
      "EPOCH LOSS tensor(0.4125, device='cuda:0', grad_fn=<DivBackward0>)\n",
      "ACCURACY 0.27\n",
      "EPOCH 79\n",
      "BATCH LOSS tensor(106.6435, device='cuda:0', grad_fn=<AddBackward0>) PER EXAMPLE LOSS tensor(0.4266, device='cuda:0', grad_fn=<DivBackward0>)\n",
      "BATCH LOSS tensor(100.4509, device='cuda:0', grad_fn=<AddBackward0>) PER EXAMPLE LOSS tensor(0.4018, device='cuda:0', grad_fn=<DivBackward0>)\n",
      "BATCH LOSS tensor(101.0250, device='cuda:0', grad_fn=<AddBackward0>) PER EXAMPLE LOSS tensor(0.4041, device='cuda:0', grad_fn=<DivBackward0>)\n",
      "BATCH LOSS tensor(101.4615, device='cuda:0', grad_fn=<AddBackward0>) PER EXAMPLE LOSS tensor(0.4058, device='cuda:0', grad_fn=<DivBackward0>)\n",
      "EPOCH LOSS tensor(0.4096, device='cuda:0', grad_fn=<DivBackward0>)\n",
      "ACCURACY 0.28\n",
      "EPOCH 80\n",
      "BATCH LOSS tensor(105.2782, device='cuda:0', grad_fn=<AddBackward0>) PER EXAMPLE LOSS tensor(0.4211, device='cuda:0', grad_fn=<DivBackward0>)\n",
      "BATCH LOSS tensor(98.7920, device='cuda:0', grad_fn=<AddBackward0>) PER EXAMPLE LOSS tensor(0.3952, device='cuda:0', grad_fn=<DivBackward0>)\n",
      "BATCH LOSS tensor(99.6536, device='cuda:0', grad_fn=<AddBackward0>) PER EXAMPLE LOSS tensor(0.3986, device='cuda:0', grad_fn=<DivBackward0>)\n",
      "BATCH LOSS tensor(100.5294, device='cuda:0', grad_fn=<AddBackward0>) PER EXAMPLE LOSS tensor(0.4021, device='cuda:0', grad_fn=<DivBackward0>)\n",
      "EPOCH LOSS tensor(0.4043, device='cuda:0', grad_fn=<DivBackward0>)\n",
      "ACCURACY 0.27\n",
      "EPOCH 81\n",
      "BATCH LOSS tensor(105.2285, device='cuda:0', grad_fn=<AddBackward0>) PER EXAMPLE LOSS tensor(0.4209, device='cuda:0', grad_fn=<DivBackward0>)\n",
      "BATCH LOSS tensor(98.6971, device='cuda:0', grad_fn=<AddBackward0>) PER EXAMPLE LOSS tensor(0.3948, device='cuda:0', grad_fn=<DivBackward0>)\n",
      "BATCH LOSS tensor(98.9815, device='cuda:0', grad_fn=<AddBackward0>) PER EXAMPLE LOSS tensor(0.3959, device='cuda:0', grad_fn=<DivBackward0>)\n",
      "BATCH LOSS tensor(100.0128, device='cuda:0', grad_fn=<AddBackward0>) PER EXAMPLE LOSS tensor(0.4001, device='cuda:0', grad_fn=<DivBackward0>)\n",
      "EPOCH LOSS tensor(0.4029, device='cuda:0', grad_fn=<DivBackward0>)\n",
      "ACCURACY 0.28\n",
      "EPOCH 82\n",
      "BATCH LOSS tensor(104.7062, device='cuda:0', grad_fn=<AddBackward0>) PER EXAMPLE LOSS tensor(0.4188, device='cuda:0', grad_fn=<DivBackward0>)\n",
      "BATCH LOSS tensor(97.7351, device='cuda:0', grad_fn=<AddBackward0>) PER EXAMPLE LOSS tensor(0.3909, device='cuda:0', grad_fn=<DivBackward0>)\n",
      "BATCH LOSS tensor(97.8255, device='cuda:0', grad_fn=<AddBackward0>) PER EXAMPLE LOSS tensor(0.3913, device='cuda:0', grad_fn=<DivBackward0>)\n",
      "BATCH LOSS tensor(98.4302, device='cuda:0', grad_fn=<AddBackward0>) PER EXAMPLE LOSS tensor(0.3937, device='cuda:0', grad_fn=<DivBackward0>)\n",
      "EPOCH LOSS tensor(0.3987, device='cuda:0', grad_fn=<DivBackward0>)\n",
      "ACCURACY 0.29\n",
      "EPOCH 83\n",
      "BATCH LOSS tensor(103.3032, device='cuda:0', grad_fn=<AddBackward0>) PER EXAMPLE LOSS tensor(0.4132, device='cuda:0', grad_fn=<DivBackward0>)\n",
      "BATCH LOSS tensor(97.3679, device='cuda:0', grad_fn=<AddBackward0>) PER EXAMPLE LOSS tensor(0.3895, device='cuda:0', grad_fn=<DivBackward0>)\n",
      "BATCH LOSS tensor(97.8686, device='cuda:0', grad_fn=<AddBackward0>) PER EXAMPLE LOSS tensor(0.3915, device='cuda:0', grad_fn=<DivBackward0>)\n",
      "BATCH LOSS tensor(98.6873, device='cuda:0', grad_fn=<AddBackward0>) PER EXAMPLE LOSS tensor(0.3947, device='cuda:0', grad_fn=<DivBackward0>)\n",
      "EPOCH LOSS tensor(0.3972, device='cuda:0', grad_fn=<DivBackward0>)\n",
      "ACCURACY 0.3\n",
      "EPOCH 84\n",
      "BATCH LOSS tensor(104.0977, device='cuda:0', grad_fn=<AddBackward0>) PER EXAMPLE LOSS tensor(0.4164, device='cuda:0', grad_fn=<DivBackward0>)\n",
      "BATCH LOSS tensor(97.7106, device='cuda:0', grad_fn=<AddBackward0>) PER EXAMPLE LOSS tensor(0.3908, device='cuda:0', grad_fn=<DivBackward0>)\n",
      "BATCH LOSS tensor(97.9791, device='cuda:0', grad_fn=<AddBackward0>) PER EXAMPLE LOSS tensor(0.3919, device='cuda:0', grad_fn=<DivBackward0>)\n",
      "BATCH LOSS tensor(98.3133, device='cuda:0', grad_fn=<AddBackward0>) PER EXAMPLE LOSS tensor(0.3933, device='cuda:0', grad_fn=<DivBackward0>)\n",
      "EPOCH LOSS tensor(0.3981, device='cuda:0', grad_fn=<DivBackward0>)\n",
      "ACCURACY 0.32\n",
      "EPOCH 85\n",
      "BATCH LOSS tensor(102.7942, device='cuda:0', grad_fn=<AddBackward0>) PER EXAMPLE LOSS tensor(0.4112, device='cuda:0', grad_fn=<DivBackward0>)\n",
      "BATCH LOSS tensor(96.7980, device='cuda:0', grad_fn=<AddBackward0>) PER EXAMPLE LOSS tensor(0.3872, device='cuda:0', grad_fn=<DivBackward0>)\n",
      "BATCH LOSS tensor(98.3782, device='cuda:0', grad_fn=<AddBackward0>) PER EXAMPLE LOSS tensor(0.3935, device='cuda:0', grad_fn=<DivBackward0>)\n",
      "BATCH LOSS tensor(99.2887, device='cuda:0', grad_fn=<AddBackward0>) PER EXAMPLE LOSS tensor(0.3972, device='cuda:0', grad_fn=<DivBackward0>)\n",
      "EPOCH LOSS tensor(0.3973, device='cuda:0', grad_fn=<DivBackward0>)\n",
      "ACCURACY 0.32\n",
      "EPOCH 86\n",
      "BATCH LOSS tensor(104.5662, device='cuda:0', grad_fn=<AddBackward0>) PER EXAMPLE LOSS tensor(0.4183, device='cuda:0', grad_fn=<DivBackward0>)\n",
      "BATCH LOSS tensor(98.9531, device='cuda:0', grad_fn=<AddBackward0>) PER EXAMPLE LOSS tensor(0.3958, device='cuda:0', grad_fn=<DivBackward0>)\n",
      "BATCH LOSS tensor(100.2049, device='cuda:0', grad_fn=<AddBackward0>) PER EXAMPLE LOSS tensor(0.4008, device='cuda:0', grad_fn=<DivBackward0>)\n",
      "BATCH LOSS tensor(98.9635, device='cuda:0', grad_fn=<AddBackward0>) PER EXAMPLE LOSS tensor(0.3959, device='cuda:0', grad_fn=<DivBackward0>)\n",
      "EPOCH LOSS tensor(0.4027, device='cuda:0', grad_fn=<DivBackward0>)\n",
      "ACCURACY 0.34\n",
      "EPOCH 87\n",
      "BATCH LOSS tensor(102.3017, device='cuda:0', grad_fn=<AddBackward0>) PER EXAMPLE LOSS tensor(0.4092, device='cuda:0', grad_fn=<DivBackward0>)\n",
      "BATCH LOSS tensor(95.0008, device='cuda:0', grad_fn=<AddBackward0>) PER EXAMPLE LOSS tensor(0.3800, device='cuda:0', grad_fn=<DivBackward0>)\n",
      "BATCH LOSS tensor(95.0522, device='cuda:0', grad_fn=<AddBackward0>) PER EXAMPLE LOSS tensor(0.3802, device='cuda:0', grad_fn=<DivBackward0>)\n",
      "BATCH LOSS tensor(97.0392, device='cuda:0', grad_fn=<AddBackward0>) PER EXAMPLE LOSS tensor(0.3882, device='cuda:0', grad_fn=<DivBackward0>)\n",
      "EPOCH LOSS tensor(0.3894, device='cuda:0', grad_fn=<DivBackward0>)\n",
      "ACCURACY 0.33\n",
      "EPOCH 88\n",
      "BATCH LOSS tensor(103.8942, device='cuda:0', grad_fn=<AddBackward0>) PER EXAMPLE LOSS tensor(0.4156, device='cuda:0', grad_fn=<DivBackward0>)\n",
      "BATCH LOSS tensor(98.5674, device='cuda:0', grad_fn=<AddBackward0>) PER EXAMPLE LOSS tensor(0.3943, device='cuda:0', grad_fn=<DivBackward0>)\n",
      "BATCH LOSS tensor(97.0575, device='cuda:0', grad_fn=<AddBackward0>) PER EXAMPLE LOSS tensor(0.3882, device='cuda:0', grad_fn=<DivBackward0>)\n",
      "BATCH LOSS tensor(96.6767, device='cuda:0', grad_fn=<AddBackward0>) PER EXAMPLE LOSS tensor(0.3867, device='cuda:0', grad_fn=<DivBackward0>)\n",
      "EPOCH LOSS tensor(0.3962, device='cuda:0', grad_fn=<DivBackward0>)\n",
      "ACCURACY 0.32\n",
      "EPOCH 89\n",
      "BATCH LOSS tensor(100.3350, device='cuda:0', grad_fn=<AddBackward0>) PER EXAMPLE LOSS tensor(0.4013, device='cuda:0', grad_fn=<DivBackward0>)\n",
      "BATCH LOSS tensor(94.0210, device='cuda:0', grad_fn=<AddBackward0>) PER EXAMPLE LOSS tensor(0.3761, device='cuda:0', grad_fn=<DivBackward0>)\n",
      "BATCH LOSS tensor(94.7792, device='cuda:0', grad_fn=<AddBackward0>) PER EXAMPLE LOSS tensor(0.3791, device='cuda:0', grad_fn=<DivBackward0>)\n",
      "BATCH LOSS tensor(95.3266, device='cuda:0', grad_fn=<AddBackward0>) PER EXAMPLE LOSS tensor(0.3813, device='cuda:0', grad_fn=<DivBackward0>)\n",
      "EPOCH LOSS tensor(0.3845, device='cuda:0', grad_fn=<DivBackward0>)\n",
      "ACCURACY 0.36\n",
      "EPOCH 90\n",
      "BATCH LOSS tensor(99.7552, device='cuda:0', grad_fn=<AddBackward0>) PER EXAMPLE LOSS tensor(0.3990, device='cuda:0', grad_fn=<DivBackward0>)\n",
      "BATCH LOSS tensor(93.4304, device='cuda:0', grad_fn=<AddBackward0>) PER EXAMPLE LOSS tensor(0.3737, device='cuda:0', grad_fn=<DivBackward0>)\n",
      "BATCH LOSS tensor(93.8809, device='cuda:0', grad_fn=<AddBackward0>) PER EXAMPLE LOSS tensor(0.3755, device='cuda:0', grad_fn=<DivBackward0>)\n",
      "BATCH LOSS tensor(95.0272, device='cuda:0', grad_fn=<AddBackward0>) PER EXAMPLE LOSS tensor(0.3801, device='cuda:0', grad_fn=<DivBackward0>)\n",
      "EPOCH LOSS tensor(0.3821, device='cuda:0', grad_fn=<DivBackward0>)\n",
      "ACCURACY 0.34\n",
      "EPOCH 91\n",
      "BATCH LOSS tensor(100.6078, device='cuda:0', grad_fn=<AddBackward0>) PER EXAMPLE LOSS tensor(0.4024, device='cuda:0', grad_fn=<DivBackward0>)\n",
      "BATCH LOSS tensor(93.5098, device='cuda:0', grad_fn=<AddBackward0>) PER EXAMPLE LOSS tensor(0.3740, device='cuda:0', grad_fn=<DivBackward0>)\n",
      "BATCH LOSS tensor(93.0331, device='cuda:0', grad_fn=<AddBackward0>) PER EXAMPLE LOSS tensor(0.3721, device='cuda:0', grad_fn=<DivBackward0>)\n",
      "BATCH LOSS tensor(92.9192, device='cuda:0', grad_fn=<AddBackward0>) PER EXAMPLE LOSS tensor(0.3717, device='cuda:0', grad_fn=<DivBackward0>)\n",
      "EPOCH LOSS tensor(0.3801, device='cuda:0', grad_fn=<DivBackward0>)\n",
      "ACCURACY 0.37\n",
      "EPOCH 92\n",
      "BATCH LOSS tensor(97.2709, device='cuda:0', grad_fn=<AddBackward0>) PER EXAMPLE LOSS tensor(0.3891, device='cuda:0', grad_fn=<DivBackward0>)\n",
      "BATCH LOSS tensor(91.7831, device='cuda:0', grad_fn=<AddBackward0>) PER EXAMPLE LOSS tensor(0.3671, device='cuda:0', grad_fn=<DivBackward0>)\n",
      "BATCH LOSS tensor(92.7323, device='cuda:0', grad_fn=<AddBackward0>) PER EXAMPLE LOSS tensor(0.3709, device='cuda:0', grad_fn=<DivBackward0>)\n",
      "BATCH LOSS tensor(93.6091, device='cuda:0', grad_fn=<AddBackward0>) PER EXAMPLE LOSS tensor(0.3744, device='cuda:0', grad_fn=<DivBackward0>)\n",
      "EPOCH LOSS tensor(0.3754, device='cuda:0', grad_fn=<DivBackward0>)\n",
      "ACCURACY 0.33\n",
      "EPOCH 93\n",
      "BATCH LOSS tensor(98.9734, device='cuda:0', grad_fn=<AddBackward0>) PER EXAMPLE LOSS tensor(0.3959, device='cuda:0', grad_fn=<DivBackward0>)\n",
      "BATCH LOSS tensor(93.3238, device='cuda:0', grad_fn=<AddBackward0>) PER EXAMPLE LOSS tensor(0.3733, device='cuda:0', grad_fn=<DivBackward0>)\n",
      "BATCH LOSS tensor(93.7232, device='cuda:0', grad_fn=<AddBackward0>) PER EXAMPLE LOSS tensor(0.3749, device='cuda:0', grad_fn=<DivBackward0>)\n",
      "BATCH LOSS tensor(96.1691, device='cuda:0', grad_fn=<AddBackward0>) PER EXAMPLE LOSS tensor(0.3847, device='cuda:0', grad_fn=<DivBackward0>)\n",
      "EPOCH LOSS tensor(0.3822, device='cuda:0', grad_fn=<DivBackward0>)\n",
      "ACCURACY 0.37\n",
      "EPOCH 94\n",
      "BATCH LOSS tensor(102.6357, device='cuda:0', grad_fn=<AddBackward0>) PER EXAMPLE LOSS tensor(0.4105, device='cuda:0', grad_fn=<DivBackward0>)\n",
      "BATCH LOSS tensor(97.6096, device='cuda:0', grad_fn=<AddBackward0>) PER EXAMPLE LOSS tensor(0.3904, device='cuda:0', grad_fn=<DivBackward0>)\n",
      "BATCH LOSS tensor(96.4133, device='cuda:0', grad_fn=<AddBackward0>) PER EXAMPLE LOSS tensor(0.3857, device='cuda:0', grad_fn=<DivBackward0>)\n",
      "BATCH LOSS tensor(96.7187, device='cuda:0', grad_fn=<AddBackward0>) PER EXAMPLE LOSS tensor(0.3869, device='cuda:0', grad_fn=<DivBackward0>)\n",
      "EPOCH LOSS tensor(0.3934, device='cuda:0', grad_fn=<DivBackward0>)\n",
      "ACCURACY 0.35\n",
      "EPOCH 95\n",
      "BATCH LOSS tensor(98.5501, device='cuda:0', grad_fn=<AddBackward0>) PER EXAMPLE LOSS tensor(0.3942, device='cuda:0', grad_fn=<DivBackward0>)\n",
      "BATCH LOSS tensor(91.4763, device='cuda:0', grad_fn=<AddBackward0>) PER EXAMPLE LOSS tensor(0.3659, device='cuda:0', grad_fn=<DivBackward0>)\n",
      "BATCH LOSS tensor(91.7021, device='cuda:0', grad_fn=<AddBackward0>) PER EXAMPLE LOSS tensor(0.3668, device='cuda:0', grad_fn=<DivBackward0>)\n",
      "BATCH LOSS tensor(92.8643, device='cuda:0', grad_fn=<AddBackward0>) PER EXAMPLE LOSS tensor(0.3715, device='cuda:0', grad_fn=<DivBackward0>)\n",
      "EPOCH LOSS tensor(0.3746, device='cuda:0', grad_fn=<DivBackward0>)\n",
      "ACCURACY 0.44\n",
      "EPOCH 96\n",
      "BATCH LOSS tensor(99.6152, device='cuda:0', grad_fn=<AddBackward0>) PER EXAMPLE LOSS tensor(0.3985, device='cuda:0', grad_fn=<DivBackward0>)\n",
      "BATCH LOSS tensor(93.9515, device='cuda:0', grad_fn=<AddBackward0>) PER EXAMPLE LOSS tensor(0.3758, device='cuda:0', grad_fn=<DivBackward0>)\n",
      "BATCH LOSS tensor(93.8021, device='cuda:0', grad_fn=<AddBackward0>) PER EXAMPLE LOSS tensor(0.3752, device='cuda:0', grad_fn=<DivBackward0>)\n",
      "BATCH LOSS tensor(92.1141, device='cuda:0', grad_fn=<AddBackward0>) PER EXAMPLE LOSS tensor(0.3685, device='cuda:0', grad_fn=<DivBackward0>)\n",
      "EPOCH LOSS tensor(0.3795, device='cuda:0', grad_fn=<DivBackward0>)\n",
      "ACCURACY 0.38\n",
      "EPOCH 97\n",
      "BATCH LOSS tensor(95.2316, device='cuda:0', grad_fn=<AddBackward0>) PER EXAMPLE LOSS tensor(0.3809, device='cuda:0', grad_fn=<DivBackward0>)\n",
      "BATCH LOSS tensor(89.4918, device='cuda:0', grad_fn=<AddBackward0>) PER EXAMPLE LOSS tensor(0.3580, device='cuda:0', grad_fn=<DivBackward0>)\n",
      "BATCH LOSS tensor(90.7149, device='cuda:0', grad_fn=<AddBackward0>) PER EXAMPLE LOSS tensor(0.3629, device='cuda:0', grad_fn=<DivBackward0>)\n",
      "BATCH LOSS tensor(91.5045, device='cuda:0', grad_fn=<AddBackward0>) PER EXAMPLE LOSS tensor(0.3660, device='cuda:0', grad_fn=<DivBackward0>)\n",
      "EPOCH LOSS tensor(0.3669, device='cuda:0', grad_fn=<DivBackward0>)\n",
      "ACCURACY 0.38\n",
      "EPOCH 98\n",
      "BATCH LOSS tensor(95.6740, device='cuda:0', grad_fn=<AddBackward0>) PER EXAMPLE LOSS tensor(0.3827, device='cuda:0', grad_fn=<DivBackward0>)\n",
      "BATCH LOSS tensor(89.6663, device='cuda:0', grad_fn=<AddBackward0>) PER EXAMPLE LOSS tensor(0.3587, device='cuda:0', grad_fn=<DivBackward0>)\n",
      "BATCH LOSS tensor(89.8373, device='cuda:0', grad_fn=<AddBackward0>) PER EXAMPLE LOSS tensor(0.3593, device='cuda:0', grad_fn=<DivBackward0>)\n",
      "BATCH LOSS tensor(91.0742, device='cuda:0', grad_fn=<AddBackward0>) PER EXAMPLE LOSS tensor(0.3643, device='cuda:0', grad_fn=<DivBackward0>)\n",
      "EPOCH LOSS tensor(0.3663, device='cuda:0', grad_fn=<DivBackward0>)\n",
      "ACCURACY 0.39\n",
      "EPOCH 99\n",
      "BATCH LOSS tensor(95.7882, device='cuda:0', grad_fn=<AddBackward0>) PER EXAMPLE LOSS tensor(0.3832, device='cuda:0', grad_fn=<DivBackward0>)\n",
      "BATCH LOSS tensor(88.7166, device='cuda:0', grad_fn=<AddBackward0>) PER EXAMPLE LOSS tensor(0.3549, device='cuda:0', grad_fn=<DivBackward0>)\n",
      "BATCH LOSS tensor(89.0650, device='cuda:0', grad_fn=<AddBackward0>) PER EXAMPLE LOSS tensor(0.3563, device='cuda:0', grad_fn=<DivBackward0>)\n",
      "BATCH LOSS tensor(89.7446, device='cuda:0', grad_fn=<AddBackward0>) PER EXAMPLE LOSS tensor(0.3590, device='cuda:0', grad_fn=<DivBackward0>)\n",
      "EPOCH LOSS tensor(0.3633, device='cuda:0', grad_fn=<DivBackward0>)\n",
      "ACCURACY 0.38\n"
     ]
    }
   ],
   "source": [
    "import torch.optim as optim\n",
    "from torch import nn\n",
    "\n",
    "model = DigitDetectionModel(\n",
    "    backbone=Backbone(),\n",
    "    digit_classification_head=DigitClassificationHead(),\n",
    "    rotation_classification_head=RotationClassificationHead(),\n",
    "    box_regression_head=BoxRegressionHead(),\n",
    "    anchors=ANCHORS,\n",
    ")\n",
    "\n",
    "learner = Learner(model, RetinaLoss(), train_loader, test_dataset)\n",
    "learner.train(epochs=100, sim_batch_size=250, lr=0.001)"
   ]
  },
  {
   "cell_type": "markdown",
   "metadata": {
    "id": "tTs1lij3GDVM"
   },
   "source": [
    "## Model accuracy"
   ]
  },
  {
   "cell_type": "code",
   "execution_count": 44,
   "metadata": {
    "colab": {
     "base_uri": "https://localhost:8080/"
    },
    "id": "SgjNyw3sn7yP",
    "outputId": "2e825ca7-9386-4363-b311-0072a568144a"
   },
   "outputs": [
    {
     "name": "stdout",
     "output_type": "stream",
     "text": [
      "ACCURACY  0.38\n"
     ]
    }
   ],
   "source": [
    "correct = 0\n",
    "good = []\n",
    "wrong = []\n",
    "model.eval()\n",
    "\n",
    "for canvas in test_dataset:\n",
    "    output = model(canvas)\n",
    "    predictions = TargetDecoder().get_predictions(output)\n",
    "    answer = DigitAccuracy().compute_metric(predictions, canvas)\n",
    "    correct += answer\n",
    "\n",
    "    if answer == 1:\n",
    "        good.append((canvas, predictions))\n",
    "    else:\n",
    "        wrong.append((canvas, predictions))\n",
    "\n",
    "\n",
    "print(\"ACCURACY \", correct / len(test_dataset))"
   ]
  },
  {
   "cell_type": "code",
   "execution_count": 45,
   "metadata": {
    "id": "9FNYq7LrHDcd"
   },
   "outputs": [],
   "source": [
    "def plot_answers(array, idx):\n",
    "    print(\"GROUNDTRUTH:\")\n",
    "    array[idx][0].plot()\n",
    "    print(\"MODEL PREDICTION:\")\n",
    "    array[idx][0].plot(array[idx][1])"
   ]
  },
  {
   "cell_type": "markdown",
   "metadata": {
    "id": "OYgQICk3GiYD"
   },
   "source": [
    "## Correct predictions"
   ]
  },
  {
   "cell_type": "code",
   "execution_count": 47,
   "metadata": {
    "colab": {
     "base_uri": "https://localhost:8080/",
     "height": 554
    },
    "id": "IdztufvMn7yb",
    "outputId": "93ed2bf7-e4c7-49a5-de93-5e10399bbdb4"
   },
   "outputs": [
    {
     "name": "stdout",
     "output_type": "stream",
     "text": [
      "GROUNDTRUTH:\n"
     ]
    },
    {
     "data": {
      "image/png": "[encoded data removed]",
      "text/plain": [
       "<Figure size 432x288 with 1 Axes>"
      ]
     },
     "metadata": {
      "needs_background": "light"
     },
     "output_type": "display_data"
    },
    {
     "name": "stdout",
     "output_type": "stream",
     "text": [
      "MODEL PREDICTION:\n"
     ]
    },
    {
     "data": {
      "image/png": "[encoded data removed]",
      "text/plain": [
       "<Figure size 432x288 with 1 Axes>"
      ]
     },
     "metadata": {
      "needs_background": "light"
     },
     "output_type": "display_data"
    }
   ],
   "source": [
    "plot_answers(good, 0)"
   ]
  },
  {
   "cell_type": "code",
   "execution_count": 48,
   "metadata": {
    "colab": {
     "base_uri": "https://localhost:8080/",
     "height": 554
    },
    "id": "hvZU0mTTHWOe",
    "outputId": "0afa82f8-a9c0-402c-fd8b-98bc0c3e6376"
   },
   "outputs": [
    {
     "name": "stdout",
     "output_type": "stream",
     "text": [
      "GROUNDTRUTH:\n"
     ]
    },
    {
     "data": {
      "image/png": "[encoded data removed]",
      "text/plain": [
       "<Figure size 432x288 with 1 Axes>"
      ]
     },
     "metadata": {
      "needs_background": "light"
     },
     "output_type": "display_data"
    },
    {
     "name": "stdout",
     "output_type": "stream",
     "text": [
      "MODEL PREDICTION:\n"
     ]
    },
    {
     "data": {
      "image/png": "[encoded data removed]",
      "text/plain": [
       "<Figure size 432x288 with 1 Axes>"
      ]
     },
     "metadata": {
      "needs_background": "light"
     },
     "output_type": "display_data"
    }
   ],
   "source": [
    "plot_answers(good, 1)"
   ]
  },
  {
   "cell_type": "markdown",
   "metadata": {
    "id": "Gu676kgqIx1L"
   },
   "source": [
    "Eyeballing correct and wrong predictions digit '1' was very common to be accurately predicted by the model, there just isn't a digit close looking to it."
   ]
  },
  {
   "cell_type": "markdown",
   "metadata": {
    "id": "esKUK-omHaYF"
   },
   "source": [
    "## Wrong predictions"
   ]
  },
  {
   "cell_type": "code",
   "execution_count": 49,
   "metadata": {
    "colab": {
     "base_uri": "https://localhost:8080/",
     "height": 554
    },
    "id": "lDh91DlbHZNy",
    "outputId": "47eeddba-0a24-45d9-cb3b-216bb14585bd"
   },
   "outputs": [
    {
     "name": "stdout",
     "output_type": "stream",
     "text": [
      "GROUNDTRUTH:\n"
     ]
    },
    {
     "data": {
      "image/png": "[encoded data removed]",
      "text/plain": [
       "<Figure size 432x288 with 1 Axes>"
      ]
     },
     "metadata": {
      "needs_background": "light"
     },
     "output_type": "display_data"
    },
    {
     "name": "stdout",
     "output_type": "stream",
     "text": [
      "MODEL PREDICTION:\n"
     ]
    },
    {
     "data": {
      "image/png": "[encoded data removed]",
      "text/plain": [
       "<Figure size 432x288 with 1 Axes>"
      ]
     },
     "metadata": {
      "needs_background": "light"
     },
     "output_type": "display_data"
    }
   ],
   "source": [
    "plot_answers(wrong, 1)"
   ]
  },
  {
   "cell_type": "code",
   "execution_count": 50,
   "metadata": {
    "colab": {
     "base_uri": "https://localhost:8080/",
     "height": 554
    },
    "id": "1l1U-MfFHd1S",
    "outputId": "55663350-c072-43ba-cb48-7ab4aef63c02"
   },
   "outputs": [
    {
     "name": "stdout",
     "output_type": "stream",
     "text": [
      "GROUNDTRUTH:\n"
     ]
    },
    {
     "data": {
      "image/png": "[encoded data removed]",
      "text/plain": [
       "<Figure size 432x288 with 1 Axes>"
      ]
     },
     "metadata": {
      "needs_background": "light"
     },
     "output_type": "display_data"
    },
    {
     "name": "stdout",
     "output_type": "stream",
     "text": [
      "MODEL PREDICTION:\n"
     ]
    },
    {
     "data": {
      "image/png": "[encoded data removed]",
      "text/plain": [
       "<Figure size 432x288 with 1 Axes>"
      ]
     },
     "metadata": {
      "needs_background": "light"
     },
     "output_type": "display_data"
    }
   ],
   "source": [
    "plot_answers(wrong, 7)"
   ]
  },
  {
   "cell_type": "code",
   "execution_count": 51,
   "metadata": {
    "colab": {
     "base_uri": "https://localhost:8080/",
     "height": 554
    },
    "id": "i9eOPqLoHhlE",
    "outputId": "6cec69ea-9be8-4a2d-cad9-95cacb92a07b"
   },
   "outputs": [
    {
     "name": "stdout",
     "output_type": "stream",
     "text": [
      "GROUNDTRUTH:\n"
     ]
    },
    {
     "data": {
      "image/png": "[encoded data removed]",
      "text/plain": [
       "<Figure size 432x288 with 1 Axes>"
      ]
     },
     "metadata": {
      "needs_background": "light"
     },
     "output_type": "display_data"
    },
    {
     "name": "stdout",
     "output_type": "stream",
     "text": [
      "MODEL PREDICTION:\n"
     ]
    },
    {
     "data": {
      "image/png": "[encoded data removed]",
      "text/plain": [
       "<Figure size 432x288 with 1 Axes>"
      ]
     },
     "metadata": {
      "needs_background": "light"
     },
     "output_type": "display_data"
    }
   ],
   "source": [
    "plot_answers(wrong, 11)"
   ]
  },
  {
   "cell_type": "markdown",
   "metadata": {
    "id": "j2cuJ1w1HqXI"
   },
   "source": [
    "Most commonly model was very confused between when deciding between digits '3' and '5', but also canvas generation wasn't perfect, there were some peculiar cases when (as in first plot) when digits '2' and '1' were concatenated creating oddly looking '2'."
   ]
  }
 ],
 "metadata": {
  "accelerator": "GPU",
  "colab": {
   "collapsed_sections": [],
   "name": "Homework 2",
   "provenance": []
  },
  "kernelspec": {
   "display_name": "Python 3 (ipykernel)",
   "language": "python",
   "name": "python3"
  },
  "language_info": {
   "codemirror_mode": {
    "name": "ipython",
    "version": 3
   },
   "file_extension": ".py",
   "mimetype": "text/x-python",
   "name": "python",
   "nbconvert_exporter": "python",
   "pygments_lexer": "ipython3",
   "version": "3.8.10"
  }
 },
 "nbformat": 4,
 "nbformat_minor": 1
}
